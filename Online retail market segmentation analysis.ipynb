{
 "cells": [
  {
   "cell_type": "markdown",
   "metadata": {},
   "source": [
    "# Online Retail Market Segementation Analysis"
   ]
  },
  {
   "cell_type": "markdown",
   "metadata": {},
   "source": [
    "Who are our wholesale customers that buy Union Jack candles? The better we understand our customer base, the more fruitful our efforts of appealing to them will be (with higher profit margins).\n",
    "\n",
    "We will focus on just a handful of products that were purchased online between January 12, 2010 and September 12, 2010. The website's customer base is wholesalers. The website is UK based and sells primarily gifts."
   ]
  },
  {
   "cell_type": "markdown",
   "metadata": {},
   "source": [
    "## Navigation:\n",
    "* [Data Extraction/Exploration](#first-bullet)\n",
    "* [K-Means Clustering](#second-bullet)\n",
    "* [Sci-Kit Learn K-Means Clustering](#third-bullet)\n",
    "* [Feature Scaling](#fourth-bullet)\n",
    "* [Determining Number of Clusters](#fifth-bullet)\n",
    "* [Running the Clustering Model again](#sixth-bullet)\n",
    "* [Summary](#seventh-bullet)"
   ]
  },
  {
   "cell_type": "markdown",
   "metadata": {},
   "source": [
    "## Data extraction/Exploration <a class=\"anchor\" id=\"first-bullet\"></a>"
   ]
  },
  {
   "cell_type": "code",
   "execution_count": 106,
   "metadata": {},
   "outputs": [],
   "source": [
    "import pandas as pd\n",
    "import numpy as np\n",
    "from tqdm.notebook import tqdm, trange\n",
    "import time \n",
    "from mpl_toolkits import mplot3d\n",
    "import matplotlib.pyplot as plt\n",
    "import seaborn as sb"
   ]
  },
  {
   "cell_type": "code",
   "execution_count": 60,
   "metadata": {},
   "outputs": [
    {
     "data": {
      "text/plain": [
       "Index(['InvoiceNo', 'StockCode', 'Description', 'Quantity', 'InvoiceDate',\n",
       "       'UnitPrice', 'CustomerID', 'Country'],\n",
       "      dtype='object')"
      ]
     },
     "execution_count": 60,
     "metadata": {},
     "output_type": "execute_result"
    }
   ],
   "source": [
    "data = pd.read_csv('data.csv', encoding = 'unicode_escape')\n",
    "data.columns"
   ]
  },
  {
   "cell_type": "code",
   "execution_count": 61,
   "metadata": {},
   "outputs": [
    {
     "data": {
      "text/plain": [
       "<bound method DataFrame.info of        InvoiceNo StockCode                          Description  Quantity  \\\n",
       "0         536365    85123A   WHITE HANGING HEART T-LIGHT HOLDER         6   \n",
       "1         536365     71053                  WHITE METAL LANTERN         6   \n",
       "2         536365    84406B       CREAM CUPID HEARTS COAT HANGER         8   \n",
       "3         536365    84029G  KNITTED UNION FLAG HOT WATER BOTTLE         6   \n",
       "4         536365    84029E       RED WOOLLY HOTTIE WHITE HEART.         6   \n",
       "...          ...       ...                                  ...       ...   \n",
       "541904    581587     22613          PACK OF 20 SPACEBOY NAPKINS        12   \n",
       "541905    581587     22899         CHILDREN'S APRON DOLLY GIRL          6   \n",
       "541906    581587     23254        CHILDRENS CUTLERY DOLLY GIRL          4   \n",
       "541907    581587     23255      CHILDRENS CUTLERY CIRCUS PARADE         4   \n",
       "541908    581587     22138        BAKING SET 9 PIECE RETROSPOT          3   \n",
       "\n",
       "            InvoiceDate  UnitPrice  CustomerID         Country  \n",
       "0        12/1/2010 8:26       2.55     17850.0  United Kingdom  \n",
       "1        12/1/2010 8:26       3.39     17850.0  United Kingdom  \n",
       "2        12/1/2010 8:26       2.75     17850.0  United Kingdom  \n",
       "3        12/1/2010 8:26       3.39     17850.0  United Kingdom  \n",
       "4        12/1/2010 8:26       3.39     17850.0  United Kingdom  \n",
       "...                 ...        ...         ...             ...  \n",
       "541904  12/9/2011 12:50       0.85     12680.0          France  \n",
       "541905  12/9/2011 12:50       2.10     12680.0          France  \n",
       "541906  12/9/2011 12:50       4.15     12680.0          France  \n",
       "541907  12/9/2011 12:50       4.15     12680.0          France  \n",
       "541908  12/9/2011 12:50       4.95     12680.0          France  \n",
       "\n",
       "[541909 rows x 8 columns]>"
      ]
     },
     "execution_count": 61,
     "metadata": {},
     "output_type": "execute_result"
    }
   ],
   "source": [
    "data.info"
   ]
  },
  {
   "cell_type": "code",
   "execution_count": 62,
   "metadata": {},
   "outputs": [
    {
     "data": {
      "text/html": [
       "<div>\n",
       "<style scoped>\n",
       "    .dataframe tbody tr th:only-of-type {\n",
       "        vertical-align: middle;\n",
       "    }\n",
       "\n",
       "    .dataframe tbody tr th {\n",
       "        vertical-align: top;\n",
       "    }\n",
       "\n",
       "    .dataframe thead th {\n",
       "        text-align: right;\n",
       "    }\n",
       "</style>\n",
       "<table border=\"1\" class=\"dataframe\">\n",
       "  <thead>\n",
       "    <tr style=\"text-align: right;\">\n",
       "      <th></th>\n",
       "      <th>InvoiceNo</th>\n",
       "      <th>Description</th>\n",
       "      <th>Quantity</th>\n",
       "      <th>InvoiceDate</th>\n",
       "      <th>UnitPrice</th>\n",
       "      <th>CustomerID</th>\n",
       "      <th>Country</th>\n",
       "    </tr>\n",
       "    <tr>\n",
       "      <th>StockCode</th>\n",
       "      <th></th>\n",
       "      <th></th>\n",
       "      <th></th>\n",
       "      <th></th>\n",
       "      <th></th>\n",
       "      <th></th>\n",
       "      <th></th>\n",
       "    </tr>\n",
       "  </thead>\n",
       "  <tbody>\n",
       "    <tr>\n",
       "      <th>10002</th>\n",
       "      <td>73</td>\n",
       "      <td>71</td>\n",
       "      <td>73</td>\n",
       "      <td>73</td>\n",
       "      <td>73</td>\n",
       "      <td>49</td>\n",
       "      <td>73</td>\n",
       "    </tr>\n",
       "    <tr>\n",
       "      <th>10080</th>\n",
       "      <td>24</td>\n",
       "      <td>23</td>\n",
       "      <td>24</td>\n",
       "      <td>24</td>\n",
       "      <td>24</td>\n",
       "      <td>21</td>\n",
       "      <td>24</td>\n",
       "    </tr>\n",
       "    <tr>\n",
       "      <th>10120</th>\n",
       "      <td>30</td>\n",
       "      <td>30</td>\n",
       "      <td>30</td>\n",
       "      <td>30</td>\n",
       "      <td>30</td>\n",
       "      <td>30</td>\n",
       "      <td>30</td>\n",
       "    </tr>\n",
       "    <tr>\n",
       "      <th>10123C</th>\n",
       "      <td>4</td>\n",
       "      <td>3</td>\n",
       "      <td>4</td>\n",
       "      <td>4</td>\n",
       "      <td>4</td>\n",
       "      <td>3</td>\n",
       "      <td>4</td>\n",
       "    </tr>\n",
       "    <tr>\n",
       "      <th>10123G</th>\n",
       "      <td>1</td>\n",
       "      <td>0</td>\n",
       "      <td>1</td>\n",
       "      <td>1</td>\n",
       "      <td>1</td>\n",
       "      <td>0</td>\n",
       "      <td>1</td>\n",
       "    </tr>\n",
       "    <tr>\n",
       "      <th>...</th>\n",
       "      <td>...</td>\n",
       "      <td>...</td>\n",
       "      <td>...</td>\n",
       "      <td>...</td>\n",
       "      <td>...</td>\n",
       "      <td>...</td>\n",
       "      <td>...</td>\n",
       "    </tr>\n",
       "    <tr>\n",
       "      <th>gift_0001_20</th>\n",
       "      <td>10</td>\n",
       "      <td>10</td>\n",
       "      <td>10</td>\n",
       "      <td>10</td>\n",
       "      <td>10</td>\n",
       "      <td>0</td>\n",
       "      <td>10</td>\n",
       "    </tr>\n",
       "    <tr>\n",
       "      <th>gift_0001_30</th>\n",
       "      <td>8</td>\n",
       "      <td>7</td>\n",
       "      <td>8</td>\n",
       "      <td>8</td>\n",
       "      <td>8</td>\n",
       "      <td>0</td>\n",
       "      <td>8</td>\n",
       "    </tr>\n",
       "    <tr>\n",
       "      <th>gift_0001_40</th>\n",
       "      <td>3</td>\n",
       "      <td>3</td>\n",
       "      <td>3</td>\n",
       "      <td>3</td>\n",
       "      <td>3</td>\n",
       "      <td>0</td>\n",
       "      <td>3</td>\n",
       "    </tr>\n",
       "    <tr>\n",
       "      <th>gift_0001_50</th>\n",
       "      <td>4</td>\n",
       "      <td>4</td>\n",
       "      <td>4</td>\n",
       "      <td>4</td>\n",
       "      <td>4</td>\n",
       "      <td>0</td>\n",
       "      <td>4</td>\n",
       "    </tr>\n",
       "    <tr>\n",
       "      <th>m</th>\n",
       "      <td>1</td>\n",
       "      <td>1</td>\n",
       "      <td>1</td>\n",
       "      <td>1</td>\n",
       "      <td>1</td>\n",
       "      <td>0</td>\n",
       "      <td>1</td>\n",
       "    </tr>\n",
       "  </tbody>\n",
       "</table>\n",
       "<p>4070 rows × 7 columns</p>\n",
       "</div>"
      ],
      "text/plain": [
       "              InvoiceNo  Description  Quantity  InvoiceDate  UnitPrice  \\\n",
       "StockCode                                                                \n",
       "10002                73           71        73           73         73   \n",
       "10080                24           23        24           24         24   \n",
       "10120                30           30        30           30         30   \n",
       "10123C                4            3         4            4          4   \n",
       "10123G                1            0         1            1          1   \n",
       "...                 ...          ...       ...          ...        ...   \n",
       "gift_0001_20         10           10        10           10         10   \n",
       "gift_0001_30          8            7         8            8          8   \n",
       "gift_0001_40          3            3         3            3          3   \n",
       "gift_0001_50          4            4         4            4          4   \n",
       "m                     1            1         1            1          1   \n",
       "\n",
       "              CustomerID  Country  \n",
       "StockCode                          \n",
       "10002                 49       73  \n",
       "10080                 21       24  \n",
       "10120                 30       30  \n",
       "10123C                 3        4  \n",
       "10123G                 0        1  \n",
       "...                  ...      ...  \n",
       "gift_0001_20           0       10  \n",
       "gift_0001_30           0        8  \n",
       "gift_0001_40           0        3  \n",
       "gift_0001_50           0        4  \n",
       "m                      0        1  \n",
       "\n",
       "[4070 rows x 7 columns]"
      ]
     },
     "execution_count": 62,
     "metadata": {},
     "output_type": "execute_result"
    }
   ],
   "source": [
    "data.groupby(['StockCode']).count()"
   ]
  },
  {
   "cell_type": "markdown",
   "metadata": {},
   "source": [
    "The above table groups the data by product (StockCode). This shows us the first product, called 10002, was on 73 transactions during this 9-month period. 40 customers from 7 countries bought this product. 20 products were bought in total for 4 different prices. \n",
    "\n",
    "I will choose 4 popular products to do this market segmentation analysis on. To choose the most popular products I will sort for the quantity."
   ]
  },
  {
   "cell_type": "code",
   "execution_count": 63,
   "metadata": {},
   "outputs": [
    {
     "data": {
      "text/html": [
       "<div>\n",
       "<style scoped>\n",
       "    .dataframe tbody tr th:only-of-type {\n",
       "        vertical-align: middle;\n",
       "    }\n",
       "\n",
       "    .dataframe tbody tr th {\n",
       "        vertical-align: top;\n",
       "    }\n",
       "\n",
       "    .dataframe thead th {\n",
       "        text-align: right;\n",
       "    }\n",
       "</style>\n",
       "<table border=\"1\" class=\"dataframe\">\n",
       "  <thead>\n",
       "    <tr style=\"text-align: right;\">\n",
       "      <th></th>\n",
       "      <th>sum</th>\n",
       "    </tr>\n",
       "    <tr>\n",
       "      <th>StockCode</th>\n",
       "      <th></th>\n",
       "    </tr>\n",
       "  </thead>\n",
       "  <tbody>\n",
       "    <tr>\n",
       "      <th>23005</th>\n",
       "      <td>-14418</td>\n",
       "    </tr>\n",
       "    <tr>\n",
       "      <th>23003</th>\n",
       "      <td>-8516</td>\n",
       "    </tr>\n",
       "    <tr>\n",
       "      <th>72140F</th>\n",
       "      <td>-5368</td>\n",
       "    </tr>\n",
       "    <tr>\n",
       "      <th>79323W</th>\n",
       "      <td>-4838</td>\n",
       "    </tr>\n",
       "    <tr>\n",
       "      <th>79323LP</th>\n",
       "      <td>-2618</td>\n",
       "    </tr>\n",
       "    <tr>\n",
       "      <th>...</th>\n",
       "      <td>...</td>\n",
       "    </tr>\n",
       "    <tr>\n",
       "      <th>84879</th>\n",
       "      <td>36221</td>\n",
       "    </tr>\n",
       "    <tr>\n",
       "      <th>85123A</th>\n",
       "      <td>38830</td>\n",
       "    </tr>\n",
       "    <tr>\n",
       "      <th>85099B</th>\n",
       "      <td>47363</td>\n",
       "    </tr>\n",
       "    <tr>\n",
       "      <th>84077</th>\n",
       "      <td>53847</td>\n",
       "    </tr>\n",
       "    <tr>\n",
       "      <th>22197</th>\n",
       "      <td>56450</td>\n",
       "    </tr>\n",
       "  </tbody>\n",
       "</table>\n",
       "<p>4070 rows × 1 columns</p>\n",
       "</div>"
      ],
      "text/plain": [
       "             sum\n",
       "StockCode       \n",
       "23005     -14418\n",
       "23003      -8516\n",
       "72140F     -5368\n",
       "79323W     -4838\n",
       "79323LP    -2618\n",
       "...          ...\n",
       "84879      36221\n",
       "85123A     38830\n",
       "85099B     47363\n",
       "84077      53847\n",
       "22197      56450\n",
       "\n",
       "[4070 rows x 1 columns]"
      ]
     },
     "execution_count": 63,
     "metadata": {},
     "output_type": "execute_result"
    }
   ],
   "source": [
    "temp = data.groupby(['StockCode']).Quantity.agg(['sum'])\n",
    "temp.sort_values(by='sum')"
   ]
  },
  {
   "cell_type": "markdown",
   "metadata": {},
   "source": [
    "The top four products seemed to sell the most: 85123A, 85099B, 84077, and 22197. So let's start with these. Here is the data that is left."
   ]
  },
  {
   "cell_type": "code",
   "execution_count": 64,
   "metadata": {},
   "outputs": [
    {
     "data": {
      "text/plain": [
       "<bound method DataFrame.info of           InvoiceNo                         Description  Quantity  \\\n",
       "StockCode                                                           \n",
       "85123A       536365  WHITE HANGING HEART T-LIGHT HOLDER         6   \n",
       "85123A       536373  WHITE HANGING HEART T-LIGHT HOLDER         6   \n",
       "85123A       536375  WHITE HANGING HEART T-LIGHT HOLDER         6   \n",
       "85123A       536390  WHITE HANGING HEART T-LIGHT HOLDER        64   \n",
       "85123A       536394  WHITE HANGING HEART T-LIGHT HOLDER        32   \n",
       "...             ...                                 ...       ...   \n",
       "22197        581476                      POPCORN HOLDER       100   \n",
       "22197        581492                      POPCORN HOLDER        34   \n",
       "22197        581497                      POPCORN HOLDER        68   \n",
       "22197        581538                      POPCORN HOLDER         4   \n",
       "22197        581579                      POPCORN HOLDER        24   \n",
       "\n",
       "               InvoiceDate  UnitPrice  CustomerID         Country  \n",
       "StockCode                                                          \n",
       "85123A      12/1/2010 8:26       2.55     17850.0  United Kingdom  \n",
       "85123A      12/1/2010 9:02       2.55     17850.0  United Kingdom  \n",
       "85123A      12/1/2010 9:32       2.55     17850.0  United Kingdom  \n",
       "85123A     12/1/2010 10:19       2.55     17511.0  United Kingdom  \n",
       "85123A     12/1/2010 10:39       2.55     13408.0  United Kingdom  \n",
       "...                    ...        ...         ...             ...  \n",
       "22197       12/9/2011 8:48       0.72     12433.0          Norway  \n",
       "22197      12/9/2011 10:03       1.63         NaN  United Kingdom  \n",
       "22197      12/9/2011 10:23       2.46         NaN  United Kingdom  \n",
       "22197      12/9/2011 11:34       0.85     14446.0  United Kingdom  \n",
       "22197      12/9/2011 12:19       0.85     17581.0  United Kingdom  \n",
       "\n",
       "[6490 rows x 7 columns]>"
      ]
     },
     "execution_count": 64,
     "metadata": {},
     "output_type": "execute_result"
    }
   ],
   "source": [
    "data = data.set_index('StockCode')\n",
    "fourProducts = data.loc[['85123A', '85099B', '84077', '22197'], :] \n",
    "fourProducts.info"
   ]
  },
  {
   "cell_type": "code",
   "execution_count": 7,
   "metadata": {},
   "outputs": [
    {
     "data": {
      "text/plain": [
       "array(['WHITE HANGING HEART T-LIGHT HOLDER', '?',\n",
       "       'wrongly marked carton 22804',\n",
       "       'CREAM HANGING HEART T-LIGHT HOLDER', 'JUMBO BAG RED RETROSPOT',\n",
       "       'WORLD WAR 2 GLIDERS ASSTD DESIGNS', 'SMALL POPCORN HOLDER',\n",
       "       'POPCORN HOLDER'], dtype=object)"
      ]
     },
     "execution_count": 7,
     "metadata": {},
     "output_type": "execute_result"
    }
   ],
   "source": [
    "fourProducts.Description.unique()"
   ]
  },
  {
   "cell_type": "markdown",
   "metadata": {},
   "source": [
    "Seems like according to the descriptions there are more than 4 products corresponding to these 4 stock codes. I think we should get rid of 'wrongly marked carton 22804', as it may indicate it is a wrongly marked product. "
   ]
  },
  {
   "cell_type": "code",
   "execution_count": 8,
   "metadata": {},
   "outputs": [
    {
     "data": {
      "text/html": [
       "<div>\n",
       "<style scoped>\n",
       "    .dataframe tbody tr th:only-of-type {\n",
       "        vertical-align: middle;\n",
       "    }\n",
       "\n",
       "    .dataframe tbody tr th {\n",
       "        vertical-align: top;\n",
       "    }\n",
       "\n",
       "    .dataframe thead th {\n",
       "        text-align: right;\n",
       "    }\n",
       "</style>\n",
       "<table border=\"1\" class=\"dataframe\">\n",
       "  <thead>\n",
       "    <tr style=\"text-align: right;\">\n",
       "      <th></th>\n",
       "      <th>sum</th>\n",
       "    </tr>\n",
       "    <tr>\n",
       "      <th>Description</th>\n",
       "      <th></th>\n",
       "    </tr>\n",
       "  </thead>\n",
       "  <tbody>\n",
       "    <tr>\n",
       "      <th>?</th>\n",
       "      <td>4000</td>\n",
       "    </tr>\n",
       "    <tr>\n",
       "      <th>CREAM HANGING HEART T-LIGHT HOLDER</th>\n",
       "      <td>61</td>\n",
       "    </tr>\n",
       "    <tr>\n",
       "      <th>JUMBO BAG RED RETROSPOT</th>\n",
       "      <td>47363</td>\n",
       "    </tr>\n",
       "    <tr>\n",
       "      <th>POPCORN HOLDER</th>\n",
       "      <td>36334</td>\n",
       "    </tr>\n",
       "    <tr>\n",
       "      <th>SMALL POPCORN HOLDER</th>\n",
       "      <td>20116</td>\n",
       "    </tr>\n",
       "    <tr>\n",
       "      <th>WHITE HANGING HEART T-LIGHT HOLDER</th>\n",
       "      <td>35025</td>\n",
       "    </tr>\n",
       "    <tr>\n",
       "      <th>WORLD WAR 2 GLIDERS ASSTD DESIGNS</th>\n",
       "      <td>53847</td>\n",
       "    </tr>\n",
       "    <tr>\n",
       "      <th>wrongly marked carton 22804</th>\n",
       "      <td>-256</td>\n",
       "    </tr>\n",
       "  </tbody>\n",
       "</table>\n",
       "</div>"
      ],
      "text/plain": [
       "                                      sum\n",
       "Description                              \n",
       "?                                    4000\n",
       "CREAM HANGING HEART T-LIGHT HOLDER     61\n",
       "JUMBO BAG RED RETROSPOT             47363\n",
       "POPCORN HOLDER                      36334\n",
       "SMALL POPCORN HOLDER                20116\n",
       "WHITE HANGING HEART T-LIGHT HOLDER  35025\n",
       "WORLD WAR 2 GLIDERS ASSTD DESIGNS   53847\n",
       "wrongly marked carton 22804          -256"
      ]
     },
     "execution_count": 8,
     "metadata": {},
     "output_type": "execute_result"
    }
   ],
   "source": [
    "fourProducts.groupby(['Description']).Quantity.agg(['sum'])"
   ]
  },
  {
   "cell_type": "code",
   "execution_count": 9,
   "metadata": {},
   "outputs": [],
   "source": [
    "fourProducts.drop(fourProducts[fourProducts.Description == 'wrongly marked carton 22804'].index, inplace = True)"
   ]
  },
  {
   "cell_type": "code",
   "execution_count": 10,
   "metadata": {},
   "outputs": [
    {
     "data": {
      "text/html": [
       "<div>\n",
       "<style scoped>\n",
       "    .dataframe tbody tr th:only-of-type {\n",
       "        vertical-align: middle;\n",
       "    }\n",
       "\n",
       "    .dataframe tbody tr th {\n",
       "        vertical-align: top;\n",
       "    }\n",
       "\n",
       "    .dataframe thead th {\n",
       "        text-align: right;\n",
       "    }\n",
       "</style>\n",
       "<table border=\"1\" class=\"dataframe\">\n",
       "  <thead>\n",
       "    <tr style=\"text-align: right;\">\n",
       "      <th></th>\n",
       "      <th>sum</th>\n",
       "    </tr>\n",
       "    <tr>\n",
       "      <th>Description</th>\n",
       "      <th></th>\n",
       "    </tr>\n",
       "  </thead>\n",
       "  <tbody>\n",
       "    <tr>\n",
       "      <th>JUMBO BAG RED RETROSPOT</th>\n",
       "      <td>47363</td>\n",
       "    </tr>\n",
       "    <tr>\n",
       "      <th>POPCORN HOLDER</th>\n",
       "      <td>36334</td>\n",
       "    </tr>\n",
       "    <tr>\n",
       "      <th>SMALL POPCORN HOLDER</th>\n",
       "      <td>20116</td>\n",
       "    </tr>\n",
       "    <tr>\n",
       "      <th>WORLD WAR 2 GLIDERS ASSTD DESIGNS</th>\n",
       "      <td>53847</td>\n",
       "    </tr>\n",
       "  </tbody>\n",
       "</table>\n",
       "</div>"
      ],
      "text/plain": [
       "                                     sum\n",
       "Description                             \n",
       "JUMBO BAG RED RETROSPOT            47363\n",
       "POPCORN HOLDER                     36334\n",
       "SMALL POPCORN HOLDER               20116\n",
       "WORLD WAR 2 GLIDERS ASSTD DESIGNS  53847"
      ]
     },
     "execution_count": 10,
     "metadata": {},
     "output_type": "execute_result"
    }
   ],
   "source": [
    "fourProducts.groupby(['Description']).Quantity.agg(['sum'])"
   ]
  },
  {
   "cell_type": "markdown",
   "metadata": {},
   "source": [
    "Now we have our four products.\n",
    "\n",
    "The features I will use for clustering to begin with are: number of products bought by customer during the period, unit price paid by the customer, frequency of the customer buying that product. "
   ]
  },
  {
   "cell_type": "code",
   "execution_count": 11,
   "metadata": {},
   "outputs": [
    {
     "data": {
      "text/html": [
       "<div>\n",
       "<style scoped>\n",
       "    .dataframe tbody tr th:only-of-type {\n",
       "        vertical-align: middle;\n",
       "    }\n",
       "\n",
       "    .dataframe tbody tr th {\n",
       "        vertical-align: top;\n",
       "    }\n",
       "\n",
       "    .dataframe thead th {\n",
       "        text-align: right;\n",
       "    }\n",
       "</style>\n",
       "<table border=\"1\" class=\"dataframe\">\n",
       "  <thead>\n",
       "    <tr style=\"text-align: right;\">\n",
       "      <th></th>\n",
       "      <th></th>\n",
       "      <th>sum</th>\n",
       "    </tr>\n",
       "    <tr>\n",
       "      <th>StockCode</th>\n",
       "      <th>CustomerID</th>\n",
       "      <th></th>\n",
       "    </tr>\n",
       "  </thead>\n",
       "  <tbody>\n",
       "    <tr>\n",
       "      <th rowspan=\"5\" valign=\"top\">22197</th>\n",
       "      <th>12362.0</th>\n",
       "      <td>36</td>\n",
       "    </tr>\n",
       "    <tr>\n",
       "      <th>12377.0</th>\n",
       "      <td>12</td>\n",
       "    </tr>\n",
       "    <tr>\n",
       "      <th>12420.0</th>\n",
       "      <td>12</td>\n",
       "    </tr>\n",
       "    <tr>\n",
       "      <th>12433.0</th>\n",
       "      <td>444</td>\n",
       "    </tr>\n",
       "    <tr>\n",
       "      <th>12437.0</th>\n",
       "      <td>24</td>\n",
       "    </tr>\n",
       "  </tbody>\n",
       "</table>\n",
       "</div>"
      ],
      "text/plain": [
       "                      sum\n",
       "StockCode CustomerID     \n",
       "22197     12362.0      36\n",
       "          12377.0      12\n",
       "          12420.0      12\n",
       "          12433.0     444\n",
       "          12437.0      24"
      ]
     },
     "execution_count": 11,
     "metadata": {},
     "output_type": "execute_result"
    }
   ],
   "source": [
    "quantityProds = fourProducts.groupby(['StockCode','CustomerID']).Quantity.agg(['sum']) #number of products bought by customer during this period\n",
    "quantityProds.head()"
   ]
  },
  {
   "cell_type": "code",
   "execution_count": 12,
   "metadata": {},
   "outputs": [],
   "source": [
    "fourProducts.reset_index(drop = False, inplace = True)"
   ]
  },
  {
   "cell_type": "code",
   "execution_count": 13,
   "metadata": {},
   "outputs": [
    {
     "data": {
      "text/html": [
       "<div>\n",
       "<style scoped>\n",
       "    .dataframe tbody tr th:only-of-type {\n",
       "        vertical-align: middle;\n",
       "    }\n",
       "\n",
       "    .dataframe tbody tr th {\n",
       "        vertical-align: top;\n",
       "    }\n",
       "\n",
       "    .dataframe thead th {\n",
       "        text-align: right;\n",
       "    }\n",
       "</style>\n",
       "<table border=\"1\" class=\"dataframe\">\n",
       "  <thead>\n",
       "    <tr style=\"text-align: right;\">\n",
       "      <th></th>\n",
       "      <th></th>\n",
       "      <th>count</th>\n",
       "    </tr>\n",
       "    <tr>\n",
       "      <th>StockCode</th>\n",
       "      <th>CustomerID</th>\n",
       "      <th></th>\n",
       "    </tr>\n",
       "  </thead>\n",
       "  <tbody>\n",
       "    <tr>\n",
       "      <th rowspan=\"5\" valign=\"top\">22197</th>\n",
       "      <th>12362.0</th>\n",
       "      <td>1</td>\n",
       "    </tr>\n",
       "    <tr>\n",
       "      <th>12377.0</th>\n",
       "      <td>1</td>\n",
       "    </tr>\n",
       "    <tr>\n",
       "      <th>12420.0</th>\n",
       "      <td>1</td>\n",
       "    </tr>\n",
       "    <tr>\n",
       "      <th>12433.0</th>\n",
       "      <td>5</td>\n",
       "    </tr>\n",
       "    <tr>\n",
       "      <th>12437.0</th>\n",
       "      <td>2</td>\n",
       "    </tr>\n",
       "  </tbody>\n",
       "</table>\n",
       "</div>"
      ],
      "text/plain": [
       "                      count\n",
       "StockCode CustomerID       \n",
       "22197     12362.0         1\n",
       "          12377.0         1\n",
       "          12420.0         1\n",
       "          12433.0         5\n",
       "          12437.0         2"
      ]
     },
     "execution_count": 13,
     "metadata": {},
     "output_type": "execute_result"
    }
   ],
   "source": [
    "transFreq = fourProducts.groupby(['StockCode','CustomerID']).InvoiceNo.agg(['count']) #Frequency of transactions for each prodct during this period\n",
    "transFreq.head()"
   ]
  },
  {
   "cell_type": "code",
   "execution_count": 14,
   "metadata": {},
   "outputs": [
    {
     "data": {
      "text/html": [
       "<div>\n",
       "<style scoped>\n",
       "    .dataframe tbody tr th:only-of-type {\n",
       "        vertical-align: middle;\n",
       "    }\n",
       "\n",
       "    .dataframe tbody tr th {\n",
       "        vertical-align: top;\n",
       "    }\n",
       "\n",
       "    .dataframe thead tr th {\n",
       "        text-align: left;\n",
       "    }\n",
       "\n",
       "    .dataframe thead tr:last-of-type th {\n",
       "        text-align: right;\n",
       "    }\n",
       "</style>\n",
       "<table border=\"1\" class=\"dataframe\">\n",
       "  <thead>\n",
       "    <tr>\n",
       "      <th></th>\n",
       "      <th></th>\n",
       "      <th colspan=\"8\" halign=\"left\">UnitPrice</th>\n",
       "    </tr>\n",
       "    <tr>\n",
       "      <th></th>\n",
       "      <th></th>\n",
       "      <th>count</th>\n",
       "      <th>mean</th>\n",
       "      <th>std</th>\n",
       "      <th>min</th>\n",
       "      <th>25%</th>\n",
       "      <th>50%</th>\n",
       "      <th>75%</th>\n",
       "      <th>max</th>\n",
       "    </tr>\n",
       "    <tr>\n",
       "      <th>StockCode</th>\n",
       "      <th>CustomerID</th>\n",
       "      <th></th>\n",
       "      <th></th>\n",
       "      <th></th>\n",
       "      <th></th>\n",
       "      <th></th>\n",
       "      <th></th>\n",
       "      <th></th>\n",
       "      <th></th>\n",
       "    </tr>\n",
       "  </thead>\n",
       "  <tbody>\n",
       "    <tr>\n",
       "      <th rowspan=\"5\" valign=\"top\">22197</th>\n",
       "      <th>12362.0</th>\n",
       "      <td>1.0</td>\n",
       "      <td>0.850000</td>\n",
       "      <td>NaN</td>\n",
       "      <td>0.85</td>\n",
       "      <td>0.850</td>\n",
       "      <td>0.85</td>\n",
       "      <td>0.85</td>\n",
       "      <td>0.85</td>\n",
       "    </tr>\n",
       "    <tr>\n",
       "      <th>12377.0</th>\n",
       "      <td>1.0</td>\n",
       "      <td>0.850000</td>\n",
       "      <td>NaN</td>\n",
       "      <td>0.85</td>\n",
       "      <td>0.850</td>\n",
       "      <td>0.85</td>\n",
       "      <td>0.85</td>\n",
       "      <td>0.85</td>\n",
       "    </tr>\n",
       "    <tr>\n",
       "      <th>12420.0</th>\n",
       "      <td>1.0</td>\n",
       "      <td>0.850000</td>\n",
       "      <td>NaN</td>\n",
       "      <td>0.85</td>\n",
       "      <td>0.850</td>\n",
       "      <td>0.85</td>\n",
       "      <td>0.85</td>\n",
       "      <td>0.85</td>\n",
       "    </tr>\n",
       "    <tr>\n",
       "      <th>12433.0</th>\n",
       "      <td>5.0</td>\n",
       "      <td>0.772000</td>\n",
       "      <td>0.071204</td>\n",
       "      <td>0.72</td>\n",
       "      <td>0.720</td>\n",
       "      <td>0.72</td>\n",
       "      <td>0.85</td>\n",
       "      <td>0.85</td>\n",
       "    </tr>\n",
       "    <tr>\n",
       "      <th>12437.0</th>\n",
       "      <td>2.0</td>\n",
       "      <td>0.850000</td>\n",
       "      <td>0.000000</td>\n",
       "      <td>0.85</td>\n",
       "      <td>0.850</td>\n",
       "      <td>0.85</td>\n",
       "      <td>0.85</td>\n",
       "      <td>0.85</td>\n",
       "    </tr>\n",
       "    <tr>\n",
       "      <th>...</th>\n",
       "      <th>...</th>\n",
       "      <td>...</td>\n",
       "      <td>...</td>\n",
       "      <td>...</td>\n",
       "      <td>...</td>\n",
       "      <td>...</td>\n",
       "      <td>...</td>\n",
       "      <td>...</td>\n",
       "      <td>...</td>\n",
       "    </tr>\n",
       "    <tr>\n",
       "      <th rowspan=\"5\" valign=\"top\">85099B</th>\n",
       "      <th>18226.0</th>\n",
       "      <td>6.0</td>\n",
       "      <td>2.058333</td>\n",
       "      <td>0.053072</td>\n",
       "      <td>1.95</td>\n",
       "      <td>2.080</td>\n",
       "      <td>2.08</td>\n",
       "      <td>2.08</td>\n",
       "      <td>2.08</td>\n",
       "    </tr>\n",
       "    <tr>\n",
       "      <th>18235.0</th>\n",
       "      <td>1.0</td>\n",
       "      <td>2.080000</td>\n",
       "      <td>NaN</td>\n",
       "      <td>2.08</td>\n",
       "      <td>2.080</td>\n",
       "      <td>2.08</td>\n",
       "      <td>2.08</td>\n",
       "      <td>2.08</td>\n",
       "    </tr>\n",
       "    <tr>\n",
       "      <th>18241.0</th>\n",
       "      <td>2.0</td>\n",
       "      <td>2.080000</td>\n",
       "      <td>0.000000</td>\n",
       "      <td>2.08</td>\n",
       "      <td>2.080</td>\n",
       "      <td>2.08</td>\n",
       "      <td>2.08</td>\n",
       "      <td>2.08</td>\n",
       "    </tr>\n",
       "    <tr>\n",
       "      <th>18257.0</th>\n",
       "      <td>3.0</td>\n",
       "      <td>2.036667</td>\n",
       "      <td>0.075056</td>\n",
       "      <td>1.95</td>\n",
       "      <td>2.015</td>\n",
       "      <td>2.08</td>\n",
       "      <td>2.08</td>\n",
       "      <td>2.08</td>\n",
       "    </tr>\n",
       "    <tr>\n",
       "      <th>18283.0</th>\n",
       "      <td>10.0</td>\n",
       "      <td>2.067000</td>\n",
       "      <td>0.041110</td>\n",
       "      <td>1.95</td>\n",
       "      <td>2.080</td>\n",
       "      <td>2.08</td>\n",
       "      <td>2.08</td>\n",
       "      <td>2.08</td>\n",
       "    </tr>\n",
       "  </tbody>\n",
       "</table>\n",
       "<p>1350 rows × 8 columns</p>\n",
       "</div>"
      ],
      "text/plain": [
       "                     UnitPrice                                               \\\n",
       "                         count      mean       std   min    25%   50%   75%   \n",
       "StockCode CustomerID                                                          \n",
       "22197     12362.0          1.0  0.850000       NaN  0.85  0.850  0.85  0.85   \n",
       "          12377.0          1.0  0.850000       NaN  0.85  0.850  0.85  0.85   \n",
       "          12420.0          1.0  0.850000       NaN  0.85  0.850  0.85  0.85   \n",
       "          12433.0          5.0  0.772000  0.071204  0.72  0.720  0.72  0.85   \n",
       "          12437.0          2.0  0.850000  0.000000  0.85  0.850  0.85  0.85   \n",
       "...                        ...       ...       ...   ...    ...   ...   ...   \n",
       "85099B    18226.0          6.0  2.058333  0.053072  1.95  2.080  2.08  2.08   \n",
       "          18235.0          1.0  2.080000       NaN  2.08  2.080  2.08  2.08   \n",
       "          18241.0          2.0  2.080000  0.000000  2.08  2.080  2.08  2.08   \n",
       "          18257.0          3.0  2.036667  0.075056  1.95  2.015  2.08  2.08   \n",
       "          18283.0         10.0  2.067000  0.041110  1.95  2.080  2.08  2.08   \n",
       "\n",
       "                            \n",
       "                       max  \n",
       "StockCode CustomerID        \n",
       "22197     12362.0     0.85  \n",
       "          12377.0     0.85  \n",
       "          12420.0     0.85  \n",
       "          12433.0     0.85  \n",
       "          12437.0     0.85  \n",
       "...                    ...  \n",
       "85099B    18226.0     2.08  \n",
       "          18235.0     2.08  \n",
       "          18241.0     2.08  \n",
       "          18257.0     2.08  \n",
       "          18283.0     2.08  \n",
       "\n",
       "[1350 rows x 8 columns]"
      ]
     },
     "execution_count": 14,
     "metadata": {},
     "output_type": "execute_result"
    }
   ],
   "source": [
    "pricedf = fourProducts.loc[:,['StockCode', 'CustomerID', 'UnitPrice']]\n",
    "pricedf.groupby(['StockCode', 'CustomerID']).describe()"
   ]
  },
  {
   "cell_type": "markdown",
   "metadata": {},
   "source": [
    "It looks like some customers with multiple transactions purchased the same product with different unit prices. Let's use the mean unit price for each customer (CustomerID)."
   ]
  },
  {
   "cell_type": "code",
   "execution_count": 16,
   "metadata": {},
   "outputs": [
    {
     "data": {
      "text/plain": [
       "StockCode  CustomerID\n",
       "22197      12362.0       0.850\n",
       "           12377.0       0.850\n",
       "           12420.0       0.850\n",
       "           12433.0       0.772\n",
       "           12437.0       0.850\n",
       "Name: UnitPrice, dtype: float64"
      ]
     },
     "execution_count": 16,
     "metadata": {},
     "output_type": "execute_result"
    }
   ],
   "source": [
    "meanUnitPrice = pricedf.groupby(['StockCode', 'CustomerID']).UnitPrice.agg('mean')\n",
    "meanUnitPrice.head()"
   ]
  },
  {
   "cell_type": "code",
   "execution_count": 17,
   "metadata": {},
   "outputs": [
    {
     "data": {
      "text/html": [
       "<div>\n",
       "<style scoped>\n",
       "    .dataframe tbody tr th:only-of-type {\n",
       "        vertical-align: middle;\n",
       "    }\n",
       "\n",
       "    .dataframe tbody tr th {\n",
       "        vertical-align: top;\n",
       "    }\n",
       "\n",
       "    .dataframe thead th {\n",
       "        text-align: right;\n",
       "    }\n",
       "</style>\n",
       "<table border=\"1\" class=\"dataframe\">\n",
       "  <thead>\n",
       "    <tr style=\"text-align: right;\">\n",
       "      <th></th>\n",
       "      <th></th>\n",
       "      <th>sum</th>\n",
       "      <th>count</th>\n",
       "      <th>UnitPrice</th>\n",
       "    </tr>\n",
       "    <tr>\n",
       "      <th>StockCode</th>\n",
       "      <th>CustomerID</th>\n",
       "      <th></th>\n",
       "      <th></th>\n",
       "      <th></th>\n",
       "    </tr>\n",
       "  </thead>\n",
       "  <tbody>\n",
       "    <tr>\n",
       "      <th rowspan=\"5\" valign=\"top\">22197</th>\n",
       "      <th>12362.0</th>\n",
       "      <td>36</td>\n",
       "      <td>1</td>\n",
       "      <td>0.850</td>\n",
       "    </tr>\n",
       "    <tr>\n",
       "      <th>12377.0</th>\n",
       "      <td>12</td>\n",
       "      <td>1</td>\n",
       "      <td>0.850</td>\n",
       "    </tr>\n",
       "    <tr>\n",
       "      <th>12420.0</th>\n",
       "      <td>12</td>\n",
       "      <td>1</td>\n",
       "      <td>0.850</td>\n",
       "    </tr>\n",
       "    <tr>\n",
       "      <th>12433.0</th>\n",
       "      <td>444</td>\n",
       "      <td>5</td>\n",
       "      <td>0.772</td>\n",
       "    </tr>\n",
       "    <tr>\n",
       "      <th>12437.0</th>\n",
       "      <td>24</td>\n",
       "      <td>2</td>\n",
       "      <td>0.850</td>\n",
       "    </tr>\n",
       "  </tbody>\n",
       "</table>\n",
       "</div>"
      ],
      "text/plain": [
       "                      sum  count  UnitPrice\n",
       "StockCode CustomerID                       \n",
       "22197     12362.0      36      1      0.850\n",
       "          12377.0      12      1      0.850\n",
       "          12420.0      12      1      0.850\n",
       "          12433.0     444      5      0.772\n",
       "          12437.0      24      2      0.850"
      ]
     },
     "execution_count": 17,
     "metadata": {},
     "output_type": "execute_result"
    }
   ],
   "source": [
    "joinedDF = quantityProds.join([transFreq, meanUnitPrice])\n",
    "joinedDF.head()"
   ]
  },
  {
   "cell_type": "code",
   "execution_count": 18,
   "metadata": {},
   "outputs": [],
   "source": [
    "joinedDF.reset_index(inplace = True)"
   ]
  },
  {
   "cell_type": "code",
   "execution_count": 19,
   "metadata": {},
   "outputs": [],
   "source": [
    "joinedDF.columns = ['StockCode', 'CustomerID', 'Quantity', 'NumTransactions', 'UnitPrice'] #Just some housekeeping"
   ]
  },
  {
   "cell_type": "code",
   "execution_count": 20,
   "metadata": {},
   "outputs": [],
   "source": [
    "joinedDF.set_index('StockCode', inplace = True)"
   ]
  },
  {
   "cell_type": "code",
   "execution_count": 21,
   "metadata": {},
   "outputs": [],
   "source": [
    "prod1 = '22197'\n",
    "prod1_df = joinedDF.loc['22197', :] \n",
    "\n",
    "prod2 = '84077'\n",
    "prod2_df = joinedDF.loc['84077', :] \n",
    "\n",
    "prod3 = '85099B'\n",
    "prod3_df = joinedDF.loc['85099B', :] "
   ]
  },
  {
   "cell_type": "code",
   "execution_count": 22,
   "metadata": {},
   "outputs": [
    {
     "data": {
      "text/html": [
       "<div>\n",
       "<style scoped>\n",
       "    .dataframe tbody tr th:only-of-type {\n",
       "        vertical-align: middle;\n",
       "    }\n",
       "\n",
       "    .dataframe tbody tr th {\n",
       "        vertical-align: top;\n",
       "    }\n",
       "\n",
       "    .dataframe thead th {\n",
       "        text-align: right;\n",
       "    }\n",
       "</style>\n",
       "<table border=\"1\" class=\"dataframe\">\n",
       "  <thead>\n",
       "    <tr style=\"text-align: right;\">\n",
       "      <th></th>\n",
       "      <th>CustomerID</th>\n",
       "      <th>Quantity</th>\n",
       "      <th>NumTransactions</th>\n",
       "      <th>UnitPrice</th>\n",
       "    </tr>\n",
       "    <tr>\n",
       "      <th>StockCode</th>\n",
       "      <th></th>\n",
       "      <th></th>\n",
       "      <th></th>\n",
       "      <th></th>\n",
       "    </tr>\n",
       "  </thead>\n",
       "  <tbody>\n",
       "    <tr>\n",
       "      <th>22197</th>\n",
       "      <td>407</td>\n",
       "      <td>108</td>\n",
       "      <td>19</td>\n",
       "      <td>26</td>\n",
       "    </tr>\n",
       "    <tr>\n",
       "      <th>84077</th>\n",
       "      <td>307</td>\n",
       "      <td>29</td>\n",
       "      <td>10</td>\n",
       "      <td>7</td>\n",
       "    </tr>\n",
       "    <tr>\n",
       "      <th>85099B</th>\n",
       "      <td>636</td>\n",
       "      <td>86</td>\n",
       "      <td>20</td>\n",
       "      <td>60</td>\n",
       "    </tr>\n",
       "  </tbody>\n",
       "</table>\n",
       "</div>"
      ],
      "text/plain": [
       "           CustomerID  Quantity  NumTransactions  UnitPrice\n",
       "StockCode                                                  \n",
       "22197             407       108               19         26\n",
       "84077             307        29               10          7\n",
       "85099B            636        86               20         60"
      ]
     },
     "execution_count": 22,
     "metadata": {},
     "output_type": "execute_result"
    }
   ],
   "source": [
    "joinedDF.groupby('StockCode').nunique()  #We only have 3 stock codes now, oh well."
   ]
  },
  {
   "cell_type": "code",
   "execution_count": 23,
   "metadata": {},
   "outputs": [
    {
     "name": "stderr",
     "output_type": "stream",
     "text": [
      "C:\\Users\\Lauren-Nizkorodov\\AppData\\Local\\Programs\\Python\\Python38-32\\lib\\site-packages\\pandas\\core\\indexing.py:845: SettingWithCopyWarning: \n",
      "A value is trying to be set on a copy of a slice from a DataFrame.\n",
      "Try using .loc[row_indexer,col_indexer] = value instead\n",
      "\n",
      "See the caveats in the documentation: https://pandas.pydata.org/pandas-docs/stable/user_guide/indexing.html#returning-a-view-versus-a-copy\n",
      "  self.obj[key] = _infer_fill_value(value)\n",
      "C:\\Users\\Lauren-Nizkorodov\\AppData\\Local\\Programs\\Python\\Python38-32\\lib\\site-packages\\pandas\\core\\indexing.py:966: SettingWithCopyWarning: \n",
      "A value is trying to be set on a copy of a slice from a DataFrame.\n",
      "Try using .loc[row_indexer,col_indexer] = value instead\n",
      "\n",
      "See the caveats in the documentation: https://pandas.pydata.org/pandas-docs/stable/user_guide/indexing.html#returning-a-view-versus-a-copy\n",
      "  self.obj[item] = s\n"
     ]
    }
   ],
   "source": [
    "prod1_df.loc[:, 'Prod1'] = 1\n",
    "prod1_df.columns = ['CustomerID1', 'Quantity1', 'NumTransactions1', 'UnitPrice1', 'Prod1']\n",
    "prod1_df.set_index('CustomerID1', inplace = True)\n",
    "\n",
    "prod2_df.loc[:, 'Prod2'] = 1\n",
    "prod2_df.columns = ['CustomerID2', 'Quantity2', 'NumTransactions2', 'UnitPrice2', 'Prod2']\n",
    "prod2_df.set_index('CustomerID2', inplace = True)\n",
    "\n",
    "prod3_df.loc[:, 'Prod3'] = 1\n",
    "prod3_df.columns = ['CustomerID3', 'Quantity3', 'NumTransactions3', 'UnitPrice3', 'Prod3']\n",
    "prod3_df.set_index('CustomerID3', inplace = True)"
   ]
  },
  {
   "cell_type": "code",
   "execution_count": 24,
   "metadata": {},
   "outputs": [
    {
     "data": {
      "text/html": [
       "<div>\n",
       "<style scoped>\n",
       "    .dataframe tbody tr th:only-of-type {\n",
       "        vertical-align: middle;\n",
       "    }\n",
       "\n",
       "    .dataframe tbody tr th {\n",
       "        vertical-align: top;\n",
       "    }\n",
       "\n",
       "    .dataframe thead th {\n",
       "        text-align: right;\n",
       "    }\n",
       "</style>\n",
       "<table border=\"1\" class=\"dataframe\">\n",
       "  <thead>\n",
       "    <tr style=\"text-align: right;\">\n",
       "      <th></th>\n",
       "      <th>Quantity3</th>\n",
       "      <th>NumTransactions3</th>\n",
       "      <th>UnitPrice3</th>\n",
       "      <th>Prod3</th>\n",
       "    </tr>\n",
       "    <tr>\n",
       "      <th>CustomerID3</th>\n",
       "      <th></th>\n",
       "      <th></th>\n",
       "      <th></th>\n",
       "      <th></th>\n",
       "    </tr>\n",
       "  </thead>\n",
       "  <tbody>\n",
       "    <tr>\n",
       "      <th>12359.0</th>\n",
       "      <td>10</td>\n",
       "      <td>1</td>\n",
       "      <td>2.080000</td>\n",
       "      <td>1</td>\n",
       "    </tr>\n",
       "    <tr>\n",
       "      <th>12362.0</th>\n",
       "      <td>20</td>\n",
       "      <td>2</td>\n",
       "      <td>2.080000</td>\n",
       "      <td>1</td>\n",
       "    </tr>\n",
       "    <tr>\n",
       "      <th>12373.0</th>\n",
       "      <td>10</td>\n",
       "      <td>1</td>\n",
       "      <td>1.950000</td>\n",
       "      <td>1</td>\n",
       "    </tr>\n",
       "    <tr>\n",
       "      <th>12379.0</th>\n",
       "      <td>10</td>\n",
       "      <td>1</td>\n",
       "      <td>2.080000</td>\n",
       "      <td>1</td>\n",
       "    </tr>\n",
       "    <tr>\n",
       "      <th>12380.0</th>\n",
       "      <td>30</td>\n",
       "      <td>2</td>\n",
       "      <td>2.080000</td>\n",
       "      <td>1</td>\n",
       "    </tr>\n",
       "    <tr>\n",
       "      <th>...</th>\n",
       "      <td>...</td>\n",
       "      <td>...</td>\n",
       "      <td>...</td>\n",
       "      <td>...</td>\n",
       "    </tr>\n",
       "    <tr>\n",
       "      <th>18226.0</th>\n",
       "      <td>90</td>\n",
       "      <td>6</td>\n",
       "      <td>2.058333</td>\n",
       "      <td>1</td>\n",
       "    </tr>\n",
       "    <tr>\n",
       "      <th>18235.0</th>\n",
       "      <td>10</td>\n",
       "      <td>1</td>\n",
       "      <td>2.080000</td>\n",
       "      <td>1</td>\n",
       "    </tr>\n",
       "    <tr>\n",
       "      <th>18241.0</th>\n",
       "      <td>20</td>\n",
       "      <td>2</td>\n",
       "      <td>2.080000</td>\n",
       "      <td>1</td>\n",
       "    </tr>\n",
       "    <tr>\n",
       "      <th>18257.0</th>\n",
       "      <td>30</td>\n",
       "      <td>3</td>\n",
       "      <td>2.036667</td>\n",
       "      <td>1</td>\n",
       "    </tr>\n",
       "    <tr>\n",
       "      <th>18283.0</th>\n",
       "      <td>17</td>\n",
       "      <td>10</td>\n",
       "      <td>2.067000</td>\n",
       "      <td>1</td>\n",
       "    </tr>\n",
       "  </tbody>\n",
       "</table>\n",
       "<p>636 rows × 4 columns</p>\n",
       "</div>"
      ],
      "text/plain": [
       "             Quantity3  NumTransactions3  UnitPrice3  Prod3\n",
       "CustomerID3                                                \n",
       "12359.0             10                 1    2.080000      1\n",
       "12362.0             20                 2    2.080000      1\n",
       "12373.0             10                 1    1.950000      1\n",
       "12379.0             10                 1    2.080000      1\n",
       "12380.0             30                 2    2.080000      1\n",
       "...                ...               ...         ...    ...\n",
       "18226.0             90                 6    2.058333      1\n",
       "18235.0             10                 1    2.080000      1\n",
       "18241.0             20                 2    2.080000      1\n",
       "18257.0             30                 3    2.036667      1\n",
       "18283.0             17                10    2.067000      1\n",
       "\n",
       "[636 rows x 4 columns]"
      ]
     },
     "execution_count": 24,
     "metadata": {},
     "output_type": "execute_result"
    }
   ],
   "source": [
    "prod3_df"
   ]
  },
  {
   "cell_type": "code",
   "execution_count": 25,
   "metadata": {},
   "outputs": [
    {
     "data": {
      "text/html": [
       "<div>\n",
       "<style scoped>\n",
       "    .dataframe tbody tr th:only-of-type {\n",
       "        vertical-align: middle;\n",
       "    }\n",
       "\n",
       "    .dataframe tbody tr th {\n",
       "        vertical-align: top;\n",
       "    }\n",
       "\n",
       "    .dataframe thead th {\n",
       "        text-align: right;\n",
       "    }\n",
       "</style>\n",
       "<table border=\"1\" class=\"dataframe\">\n",
       "  <thead>\n",
       "    <tr style=\"text-align: right;\">\n",
       "      <th></th>\n",
       "      <th>Quantity1</th>\n",
       "      <th>NumTransactions1</th>\n",
       "      <th>UnitPrice1</th>\n",
       "      <th>Prod1</th>\n",
       "      <th>Quantity2</th>\n",
       "      <th>NumTransactions2</th>\n",
       "      <th>UnitPrice2</th>\n",
       "      <th>Prod2</th>\n",
       "      <th>Quantity3</th>\n",
       "      <th>NumTransactions3</th>\n",
       "      <th>UnitPrice3</th>\n",
       "      <th>Prod3</th>\n",
       "    </tr>\n",
       "  </thead>\n",
       "  <tbody>\n",
       "    <tr>\n",
       "      <th>12359.0</th>\n",
       "      <td>NaN</td>\n",
       "      <td>NaN</td>\n",
       "      <td>NaN</td>\n",
       "      <td>NaN</td>\n",
       "      <td>NaN</td>\n",
       "      <td>NaN</td>\n",
       "      <td>NaN</td>\n",
       "      <td>NaN</td>\n",
       "      <td>10.0</td>\n",
       "      <td>1.0</td>\n",
       "      <td>2.08</td>\n",
       "      <td>1.0</td>\n",
       "    </tr>\n",
       "    <tr>\n",
       "      <th>12362.0</th>\n",
       "      <td>36.0</td>\n",
       "      <td>1.0</td>\n",
       "      <td>0.85</td>\n",
       "      <td>1.0</td>\n",
       "      <td>NaN</td>\n",
       "      <td>NaN</td>\n",
       "      <td>NaN</td>\n",
       "      <td>NaN</td>\n",
       "      <td>20.0</td>\n",
       "      <td>2.0</td>\n",
       "      <td>2.08</td>\n",
       "      <td>1.0</td>\n",
       "    </tr>\n",
       "    <tr>\n",
       "      <th>12373.0</th>\n",
       "      <td>NaN</td>\n",
       "      <td>NaN</td>\n",
       "      <td>NaN</td>\n",
       "      <td>NaN</td>\n",
       "      <td>NaN</td>\n",
       "      <td>NaN</td>\n",
       "      <td>NaN</td>\n",
       "      <td>NaN</td>\n",
       "      <td>10.0</td>\n",
       "      <td>1.0</td>\n",
       "      <td>1.95</td>\n",
       "      <td>1.0</td>\n",
       "    </tr>\n",
       "    <tr>\n",
       "      <th>12377.0</th>\n",
       "      <td>12.0</td>\n",
       "      <td>1.0</td>\n",
       "      <td>0.85</td>\n",
       "      <td>1.0</td>\n",
       "      <td>NaN</td>\n",
       "      <td>NaN</td>\n",
       "      <td>NaN</td>\n",
       "      <td>NaN</td>\n",
       "      <td>NaN</td>\n",
       "      <td>NaN</td>\n",
       "      <td>NaN</td>\n",
       "      <td>NaN</td>\n",
       "    </tr>\n",
       "    <tr>\n",
       "      <th>12379.0</th>\n",
       "      <td>NaN</td>\n",
       "      <td>NaN</td>\n",
       "      <td>NaN</td>\n",
       "      <td>NaN</td>\n",
       "      <td>NaN</td>\n",
       "      <td>NaN</td>\n",
       "      <td>NaN</td>\n",
       "      <td>NaN</td>\n",
       "      <td>10.0</td>\n",
       "      <td>1.0</td>\n",
       "      <td>2.08</td>\n",
       "      <td>1.0</td>\n",
       "    </tr>\n",
       "  </tbody>\n",
       "</table>\n",
       "</div>"
      ],
      "text/plain": [
       "         Quantity1  NumTransactions1  UnitPrice1  Prod1  Quantity2  \\\n",
       "12359.0        NaN               NaN         NaN    NaN        NaN   \n",
       "12362.0       36.0               1.0        0.85    1.0        NaN   \n",
       "12373.0        NaN               NaN         NaN    NaN        NaN   \n",
       "12377.0       12.0               1.0        0.85    1.0        NaN   \n",
       "12379.0        NaN               NaN         NaN    NaN        NaN   \n",
       "\n",
       "         NumTransactions2  UnitPrice2  Prod2  Quantity3  NumTransactions3  \\\n",
       "12359.0               NaN         NaN    NaN       10.0               1.0   \n",
       "12362.0               NaN         NaN    NaN       20.0               2.0   \n",
       "12373.0               NaN         NaN    NaN       10.0               1.0   \n",
       "12377.0               NaN         NaN    NaN        NaN               NaN   \n",
       "12379.0               NaN         NaN    NaN       10.0               1.0   \n",
       "\n",
       "         UnitPrice3  Prod3  \n",
       "12359.0        2.08    1.0  \n",
       "12362.0        2.08    1.0  \n",
       "12373.0        1.95    1.0  \n",
       "12377.0         NaN    NaN  \n",
       "12379.0        2.08    1.0  "
      ]
     },
     "execution_count": 25,
     "metadata": {},
     "output_type": "execute_result"
    }
   ],
   "source": [
    "features = prod1_df.join([prod2_df, prod3_df], how = 'outer')\n",
    "features.head()"
   ]
  },
  {
   "cell_type": "markdown",
   "metadata": {},
   "source": [
    "Time to fill these NaNs. For most of the features, it is okay to fill them with 0. However, for the Unit price, it may be best to fill it with the mean unit price for all data."
   ]
  },
  {
   "cell_type": "code",
   "execution_count": 26,
   "metadata": {},
   "outputs": [],
   "source": [
    "prod1UPMean = features.UnitPrice1.agg('mean')\n",
    "prod2UPMean = features.UnitPrice2.agg('mean')\n",
    "prod3UPMean = features.UnitPrice3.agg('mean')"
   ]
  },
  {
   "cell_type": "code",
   "execution_count": 27,
   "metadata": {},
   "outputs": [],
   "source": [
    "features.loc[:, 'UnitPrice1'].fillna(prod1UPMean, inplace = True)\n",
    "features.loc[:, 'UnitPrice2'].fillna(prod2UPMean, inplace = True)\n",
    "features.loc[:, 'UnitPrice3'].fillna(prod3UPMean, inplace = True)"
   ]
  },
  {
   "cell_type": "code",
   "execution_count": 29,
   "metadata": {},
   "outputs": [
    {
     "data": {
      "text/plain": [
       "<bound method DataFrame.info of          Quantity1  NumTransactions1  UnitPrice1  Prod1  Quantity2  \\\n",
       "12359.0        0.0               0.0      0.8414    0.0        0.0   \n",
       "12362.0       36.0               1.0      0.8500    1.0        0.0   \n",
       "12373.0        0.0               0.0      0.8414    0.0        0.0   \n",
       "12377.0       12.0               1.0      0.8500    1.0        0.0   \n",
       "12379.0        0.0               0.0      0.8414    0.0        0.0   \n",
       "...            ...               ...         ...    ...        ...   \n",
       "18226.0        0.0               0.0      0.8414    0.0        0.0   \n",
       "18235.0        0.0               0.0      0.8414    0.0       48.0   \n",
       "18241.0        0.0               0.0      0.8414    0.0        0.0   \n",
       "18257.0        0.0               0.0      0.8414    0.0       48.0   \n",
       "18283.0        7.0               2.0      0.8500    1.0        0.0   \n",
       "\n",
       "         NumTransactions2  UnitPrice2  Prod2  Quantity3  NumTransactions3  \\\n",
       "12359.0               0.0    0.287131    0.0       10.0               1.0   \n",
       "12362.0               0.0    0.287131    0.0       20.0               2.0   \n",
       "12373.0               0.0    0.287131    0.0       10.0               1.0   \n",
       "12377.0               0.0    0.287131    0.0        0.0               0.0   \n",
       "12379.0               0.0    0.287131    0.0       10.0               1.0   \n",
       "...                   ...         ...    ...        ...               ...   \n",
       "18226.0               0.0    0.287131    0.0       90.0               6.0   \n",
       "18235.0               1.0    0.290000    1.0       10.0               1.0   \n",
       "18241.0               0.0    0.287131    0.0       20.0               2.0   \n",
       "18257.0               1.0    0.290000    1.0       30.0               3.0   \n",
       "18283.0               0.0    0.287131    0.0       17.0              10.0   \n",
       "\n",
       "         UnitPrice3  Prod3  \n",
       "12359.0    2.080000    1.0  \n",
       "12362.0    2.080000    1.0  \n",
       "12373.0    1.950000    1.0  \n",
       "12377.0    2.030612    0.0  \n",
       "12379.0    2.080000    1.0  \n",
       "...             ...    ...  \n",
       "18226.0    2.058333    1.0  \n",
       "18235.0    2.080000    1.0  \n",
       "18241.0    2.080000    1.0  \n",
       "18257.0    2.036667    1.0  \n",
       "18283.0    2.067000    1.0  \n",
       "\n",
       "[1116 rows x 12 columns]>"
      ]
     },
     "execution_count": 29,
     "metadata": {},
     "output_type": "execute_result"
    }
   ],
   "source": [
    "features.fillna(0, inplace = True)\n",
    "features.info"
   ]
  },
  {
   "cell_type": "markdown",
   "metadata": {},
   "source": [
    "Great! The preprocessing of the data is now done at least for now."
   ]
  },
  {
   "cell_type": "markdown",
   "metadata": {},
   "source": [
    "## K-Means Clustering <a class=\"anchor\" id=\"second-bullet\"></a>"
   ]
  },
  {
   "cell_type": "markdown",
   "metadata": {},
   "source": [
    "I will first write my own K-means clustering algorithm and see how the result compares with the K-means Sci-Kit Learn algorithm."
   ]
  },
  {
   "cell_type": "code",
   "execution_count": 174,
   "metadata": {},
   "outputs": [],
   "source": [
    "#going to do k-means clustering from scratch first\n",
    "def initCentroids(X, k, index_list):\n",
    "    np.random.shuffle(index_list)\n",
    "    IdxCent = index_list[0:k]\n",
    "    initCentroids = X.iloc[IdxCent, :]\n",
    "    initCentroids = initCentroids.to_numpy()\n",
    "    return initCentroids\n",
    "\n",
    "def findClosestCentroid(centroids, X, k):\n",
    "    m = len(X.iloc[:, 1])\n",
    "    n = len(X.iloc[1, :])\n",
    "    index_list = list(range(0, m))\n",
    "    cluster_index = list(range(0, k))\n",
    "    indexClosestCentroid = np.array([])\n",
    "    for i in index_list:\n",
    "        all_sub = np.array([])\n",
    "        for l in cluster_index:\n",
    "            temp = X.iloc[i, :] - centroids[l]\n",
    "            all_sub = np.append(all_sub, temp)\n",
    "        all_sub = np.reshape(all_sub, (-1, n))\n",
    "        squared = all_sub ** 2\n",
    "        euc_length = np.sqrt(np.sum(squared, axis = 1))\n",
    "        closestCentroid = np.argmin(euc_length)\n",
    "        indexClosestCentroid = np.append(indexClosestCentroid, [i, closestCentroid])\n",
    "        indexClosestCentroid = np.reshape(indexClosestCentroid, (-1, 2))\n",
    "    return indexClosestCentroid\n",
    "\n",
    "def computeMeanCentroids(indexListClosestCentroid, data):\n",
    "    indexListClosestCentroid = pd.DataFrame(indexListClosestCentroid)\n",
    "    indexListClosestCentroid.drop(0, axis = 1, inplace = True)\n",
    "    features.reset_index(inplace = True, drop = True)\n",
    "    assignedCentroids = indexListClosestCentroid.join(data)\n",
    "    assignedCentroids = assignedCentroids.groupby(1).mean()\n",
    "    newCentroids = assignedCentroids.to_numpy()\n",
    "    return newCentroids\n",
    "\n",
    "def runKMeans(maxIter, X, k):\n",
    "    centroids = initCentroids(X, k, list(range(0, len(X.iloc[:, 1]))))\n",
    "    for iters in trange(maxIter):\n",
    "        closestCentroids = findClosestCentroid(centroids, X, k)\n",
    "        newCentroids = computeMeanCentroids(closestCentroids, X)\n",
    "    assignedCentroids = np.c_[closestCentroids[:,1], X.to_numpy()]\n",
    "    calcCentroids = np.c_[[0, 1, 2], newCentroids]\n",
    "    finalList = np.append(assignedCentroids, calcCentroids, axis = 0)\n",
    "    return finalList"
   ]
  },
  {
   "cell_type": "markdown",
   "metadata": {},
   "source": [
    "I will test each of the component parts of my algorithm first:\n",
    "\n",
    "- initCentroids: Initialises centroids. Randomly picks datapoints to be centroids. \n",
    "- findClosestCentroid: Calculates the Euclidean distance between the data point and each of the centroids. Then choses the centroid with the smallest Euclidean distance.\n",
    "- computeMeanCentroids: Calculates the mean for all data points assigned to each centroid. This mean becomes the new centroid.\n",
    "\n",
    "Then will use runKMeans to put it all together."
   ]
  },
  {
   "cell_type": "code",
   "execution_count": 131,
   "metadata": {},
   "outputs": [
    {
     "name": "stdout",
     "output_type": "stream",
     "text": [
      "[[ 1.          1.          0.85        1.          0.          0.\n",
      "   0.28713138  0.          0.          0.          2.03061236  0.        ]\n",
      " [ 0.          0.          0.84139972  0.         40.          1.\n",
      "   0.29        1.          0.          0.          2.03061236  0.        ]\n",
      " [12.          1.          0.85        1.          0.          0.\n",
      "   0.28713138  0.          0.          0.          2.03061236  0.        ]]\n"
     ]
    }
   ],
   "source": [
    "#generate initial centroids\n",
    "centroids = initCentroids(features, 3, list(range(0, len(features.iloc[:, 1]))))\n",
    "print(centroids)"
   ]
  },
  {
   "cell_type": "code",
   "execution_count": 154,
   "metadata": {},
   "outputs": [
    {
     "data": {
      "text/plain": [
       "array([[0.000e+00, 0.000e+00],\n",
       "       [1.000e+00, 2.000e+00],\n",
       "       [2.000e+00, 0.000e+00],\n",
       "       ...,\n",
       "       [1.113e+03, 0.000e+00],\n",
       "       [1.114e+03, 1.000e+00],\n",
       "       [1.115e+03, 2.000e+00]])"
      ]
     },
     "execution_count": 154,
     "metadata": {},
     "output_type": "execute_result"
    }
   ],
   "source": [
    "closestCentroids = findClosestCentroid(centroids, features, 3)\n",
    "closestCentroids"
   ]
  },
  {
   "cell_type": "code",
   "execution_count": 171,
   "metadata": {},
   "outputs": [
    {
     "data": {
      "text/plain": [
       "array([[6.04278075e-01, 2.01426025e-01, 8.42886756e-01, 1.72905526e-01,\n",
       "        3.74331551e-02, 1.24777184e-02, 2.87156946e-01, 8.91265597e-03,\n",
       "        6.19661319e+01, 2.03386809e+00, 2.02727312e+00, 8.66310160e-01],\n",
       "       [1.42140468e+01, 7.35785953e-01, 8.44926033e-01, 1.80602007e-01,\n",
       "        1.76909699e+02, 1.55852843e+00, 2.87054627e-01, 1.00000000e+00,\n",
       "        5.74581940e+00, 5.91973244e-01, 2.04205130e+00, 2.27424749e-01],\n",
       "       [1.72355469e+02, 3.06640625e+00, 8.34022398e-01, 1.00000000e+00,\n",
       "        1.16406250e+00, 1.95312500e-02, 2.87164996e-01, 1.17187500e-02,\n",
       "        3.35351562e+01, 1.34375000e+00, 2.02456965e+00, 3.20312500e-01]])"
      ]
     },
     "execution_count": 171,
     "metadata": {},
     "output_type": "execute_result"
    }
   ],
   "source": [
    "newCentroids = computeMeanCentroids(closestCentroids, features)\n",
    "newCentroids"
   ]
  },
  {
   "cell_type": "markdown",
   "metadata": {},
   "source": [
    "Great, all the individual parts (initialization of centroids, assigning data points to closest centroid, and calculating the new centroids) of the algorithm work! Let's put them all together."
   ]
  },
  {
   "cell_type": "code",
   "execution_count": 175,
   "metadata": {},
   "outputs": [
    {
     "data": {
      "application/vnd.jupyter.widget-view+json": {
       "model_id": "b6a2b67187814bcaa23b8ea0d2ecaf30",
       "version_major": 2,
       "version_minor": 0
      },
      "text/plain": [
       "HBox(children=(FloatProgress(value=0.0, max=10.0), HTML(value='')))"
      ]
     },
     "metadata": {},
     "output_type": "display_data"
    },
    {
     "name": "stdout",
     "output_type": "stream",
     "text": [
      "\n"
     ]
    }
   ],
   "source": [
    "finalList = runKMeans(10, features, 3)"
   ]
  },
  {
   "cell_type": "code",
   "execution_count": 177,
   "metadata": {},
   "outputs": [
    {
     "data": {
      "text/plain": [
       "(1119, 13)"
      ]
     },
     "execution_count": 177,
     "metadata": {},
     "output_type": "execute_result"
    }
   ],
   "source": [
    "finalList.shape"
   ]
  },
  {
   "cell_type": "code",
   "execution_count": 191,
   "metadata": {},
   "outputs": [
    {
     "name": "stdout",
     "output_type": "stream",
     "text": [
      "[0. 1. 2.] [101 289 729]\n"
     ]
    }
   ],
   "source": [
    "unique, counts = np.unique(finalList[:,0], return_counts=True)\n",
    "print(unique, counts)"
   ]
  },
  {
   "cell_type": "markdown",
   "metadata": {},
   "source": [
    "The way I wrote the code is that the final centroids are the last rows or indices of the output. In our case, there are 3 clusters. Let's have a look at them.\n",
    "\n",
    "We will work on profiling, or adding meaning to the clusters later."
   ]
  },
  {
   "cell_type": "code",
   "execution_count": 195,
   "metadata": {},
   "outputs": [
    {
     "data": {
      "text/plain": [
       "array([[4.39870000e+02, 5.77000000e+00, 8.14996862e-01, 1.00000000e+00,\n",
       "        2.12900000e+01, 4.70000000e-01, 2.90932986e-01, 1.40000000e-01,\n",
       "        6.01400000e+01, 2.41000000e+00, 2.04240187e+00, 4.20000000e-01],\n",
       "       [4.29513889e+00, 4.47916667e-01, 8.42683790e-01, 1.49305556e-01,\n",
       "        1.77309028e+02, 1.47222222e+00, 2.85761574e-01, 1.00000000e+00,\n",
       "        5.49305556e+00, 5.55555556e-01, 2.03517166e+00, 2.25694444e-01],\n",
       "       [4.79120879e+00, 5.65934066e-01, 8.44518503e-01, 3.62637363e-01,\n",
       "        2.88461538e-02, 9.61538462e-03, 2.87151081e-01, 6.86813187e-03,\n",
       "        5.14697802e+01, 1.73214286e+00, 2.02718924e+00, 7.26648352e-01]])"
      ]
     },
     "execution_count": 195,
     "metadata": {},
     "output_type": "execute_result"
    }
   ],
   "source": [
    "finalList[-3:, 1:]"
   ]
  },
  {
   "cell_type": "markdown",
   "metadata": {},
   "source": [
    "Let's visualize this result. There are two graphs per product. One plots all of the data, and the other has just the centroids."
   ]
  },
  {
   "cell_type": "code",
   "execution_count": 216,
   "metadata": {},
   "outputs": [
    {
     "data": {
      "text/plain": [
       "Text(0, 0.5, 'Unit Price')"
      ]
     },
     "execution_count": 216,
     "metadata": {},
     "output_type": "execute_result"
    },
    {
     "data": {
      "image/png": "[encoded data removed]",
      "text/plain": [
       "<Figure size 432x288 with 1 Axes>"
      ]
     },
     "metadata": {
      "needs_background": "light"
     },
     "output_type": "display_data"
    }
   ],
   "source": [
    "#product 1\n",
    "plt.scatter(finalList[:-3,1], finalList[:-3,3], s=finalList[:-3,2], c=finalList[:-3,0], marker=None, cmap='prism')\n",
    "plt.xlabel('Quantity')\n",
    "plt.ylabel('Unit Price')\n",
    "#Markers are sized by numbers of transactions"
   ]
  },
  {
   "cell_type": "code",
   "execution_count": 217,
   "metadata": {},
   "outputs": [
    {
     "data": {
      "text/plain": [
       "Text(0, 0.5, 'Unit Price')"
      ]
     },
     "execution_count": 217,
     "metadata": {},
     "output_type": "execute_result"
    },
    {
     "data": {
      "image/png": "[encoded data removed]",
      "text/plain": [
       "<Figure size 432x288 with 1 Axes>"
      ]
     },
     "metadata": {
      "needs_background": "light"
     },
     "output_type": "display_data"
    }
   ],
   "source": [
    "#product 1\n",
    "plt.scatter(finalList[-3:,1], finalList[-3:,3], c=finalList[-3:,0], marker=None, cmap='prism')\n",
    "plt.xlabel('Quantity')\n",
    "plt.ylabel('Unit Price')"
   ]
  },
  {
   "cell_type": "code",
   "execution_count": 221,
   "metadata": {},
   "outputs": [
    {
     "data": {
      "text/plain": [
       "Text(0, 0.5, 'Unit Price')"
      ]
     },
     "execution_count": 221,
     "metadata": {},
     "output_type": "execute_result"
    },
    {
     "data": {
      "image/png": "[encoded data removed]",
      "text/plain": [
       "<Figure size 432x288 with 1 Axes>"
      ]
     },
     "metadata": {
      "needs_background": "light"
     },
     "output_type": "display_data"
    }
   ],
   "source": [
    "#product 2\n",
    "plt.scatter(finalList[:-3,5], finalList[:-3,7], s=finalList[:-3,6], c=finalList[:-3,0], marker=None, cmap='prism')\n",
    "plt.xlabel('Quantity')\n",
    "plt.ylabel('Unit Price')\n",
    "#Markers are sized by numbers of transactions"
   ]
  },
  {
   "cell_type": "code",
   "execution_count": 220,
   "metadata": {},
   "outputs": [
    {
     "data": {
      "text/plain": [
       "Text(0, 0.5, 'Unit Price')"
      ]
     },
     "execution_count": 220,
     "metadata": {},
     "output_type": "execute_result"
    },
    {
     "data": {
      "image/png": "[encoded data removed]",
      "text/plain": [
       "<Figure size 432x288 with 1 Axes>"
      ]
     },
     "metadata": {
      "needs_background": "light"
     },
     "output_type": "display_data"
    }
   ],
   "source": [
    "#product 2\n",
    "plt.scatter(finalList[-3:,5], finalList[-3:,7], c=finalList[-3:,0], marker=None, cmap='prism')\n",
    "plt.xlabel('Quantity')\n",
    "plt.ylabel('Unit Price')"
   ]
  },
  {
   "cell_type": "code",
   "execution_count": 218,
   "metadata": {},
   "outputs": [
    {
     "data": {
      "text/plain": [
       "Text(0, 0.5, 'Unit Price')"
      ]
     },
     "execution_count": 218,
     "metadata": {},
     "output_type": "execute_result"
    },
    {
     "data": {
      "image/png": "[encoded data removed]",
      "text/plain": [
       "<Figure size 432x288 with 1 Axes>"
      ]
     },
     "metadata": {
      "needs_background": "light"
     },
     "output_type": "display_data"
    }
   ],
   "source": [
    "#product 3\n",
    "plt.scatter(finalList[:-3,9], finalList[:-3,11], s=finalList[:-3,6], c=finalList[:-3,0], marker=None, cmap='prism')\n",
    "plt.xlabel('Quantity')\n",
    "plt.ylabel('Unit Price')\n",
    "#Markers are sized by numbers of transactions"
   ]
  },
  {
   "cell_type": "code",
   "execution_count": 219,
   "metadata": {},
   "outputs": [
    {
     "data": {
      "text/plain": [
       "Text(0, 0.5, 'Unit Price')"
      ]
     },
     "execution_count": 219,
     "metadata": {},
     "output_type": "execute_result"
    },
    {
     "data": {
      "image/png": "[encoded data removed]",
      "text/plain": [
       "<Figure size 432x288 with 1 Axes>"
      ]
     },
     "metadata": {
      "needs_background": "light"
     },
     "output_type": "display_data"
    }
   ],
   "source": [
    "#product 3\n",
    "plt.scatter(finalList[-3:,9], finalList[-3:,11], c=finalList[-3:,0], marker=None, cmap='prism')\n",
    "plt.xlabel('Quantity')\n",
    "plt.ylabel('Unit Price')"
   ]
  },
  {
   "cell_type": "markdown",
   "metadata": {},
   "source": [
    "It does look like some of the points may be assigned incorrectly. Feature scaling or increasing the number of iterations could help with this. We should also play with the number of clusters.\n",
    "\n",
    "But the algorithm seems to work more or less."
   ]
  },
  {
   "cell_type": "markdown",
   "metadata": {},
   "source": [
    "## Sci-Kit Learn K-Means Clustering <a class=\"anchor\" id=\"third-bullet\"></a>"
   ]
  },
  {
   "cell_type": "markdown",
   "metadata": {},
   "source": [
    "Let's try to reproduce this result with the Sci-Kit Learn library."
   ]
  },
  {
   "cell_type": "code",
   "execution_count": 30,
   "metadata": {},
   "outputs": [],
   "source": [
    "from sklearn.cluster import KMeans"
   ]
  },
  {
   "cell_type": "code",
   "execution_count": 244,
   "metadata": {},
   "outputs": [],
   "source": [
    "k=3\n",
    "kmeans = KMeans(n_clusters = k, n_init = 10, init = 'random')\n",
    "y_pred = kmeans.fit_predict(features.to_numpy())"
   ]
  },
  {
   "cell_type": "code",
   "execution_count": 228,
   "metadata": {},
   "outputs": [
    {
     "data": {
      "text/plain": [
       "array([[0.00000000e+00, 0.00000000e+00, 8.41399720e-01, 0.00000000e+00,\n",
       "        7.89600000e+03, 8.00000000e+00, 2.26666667e-01, 1.00000000e+00,\n",
       "        0.00000000e+00, 0.00000000e+00, 2.03061236e+00, 0.00000000e+00],\n",
       "       [2.46444644e+01, 9.83798380e-01, 8.41727532e-01, 3.63636364e-01,\n",
       "        3.36840684e+01, 4.15841584e-01, 2.87240226e-01, 2.74527453e-01,\n",
       "        4.05634563e+01, 1.49594959e+00, 2.03061236e+00, 5.72457246e-01],\n",
       "       [7.11066667e+03, 8.33333333e+00, 7.20000000e-01, 1.00000000e+00,\n",
       "        0.00000000e+00, 0.00000000e+00, 2.87131379e-01, 0.00000000e+00,\n",
       "        0.00000000e+00, 0.00000000e+00, 2.03061236e+00, 0.00000000e+00]])"
      ]
     },
     "execution_count": 228,
     "metadata": {},
     "output_type": "execute_result"
    }
   ],
   "source": [
    "kmeans.cluster_centers_"
   ]
  },
  {
   "cell_type": "code",
   "execution_count": 230,
   "metadata": {},
   "outputs": [
    {
     "name": "stdout",
     "output_type": "stream",
     "text": [
      "clusters:  [0 1 2] number of data points: [   2 1111    3]\n"
     ]
    }
   ],
   "source": [
    "unique, counts = np.unique(y_pred, return_counts=True)\n",
    "print('clusters: ', unique, 'number of data points:',counts)"
   ]
  },
  {
   "cell_type": "code",
   "execution_count": 231,
   "metadata": {},
   "outputs": [
    {
     "data": {
      "text/plain": [
       "array([[-4.39870000e+02, -5.77000000e+00,  2.64028584e-02,\n",
       "        -1.00000000e+00,  7.87471000e+03,  7.53000000e+00,\n",
       "        -6.42663192e-02,  8.60000000e-01, -6.01400000e+01,\n",
       "        -2.41000000e+00, -1.17895120e-02, -4.20000000e-01],\n",
       "       [ 2.03493256e+01,  5.35881713e-01, -9.56257500e-04,\n",
       "         2.14330808e-01, -1.43624959e+02, -1.05638064e+00,\n",
       "         1.47865223e-03, -7.25472547e-01,  3.50704008e+01,\n",
       "         9.40394039e-01, -4.55930396e-03,  3.46762801e-01],\n",
       "       [ 7.10587546e+03,  7.76739927e+00, -1.24518503e-01,\n",
       "         6.37362637e-01, -2.88461538e-02, -9.61538462e-03,\n",
       "        -1.97020678e-05, -6.86813187e-03, -5.14697802e+01,\n",
       "        -1.73214286e+00,  3.42311914e-03, -7.26648352e-01]])"
      ]
     },
     "execution_count": 231,
     "metadata": {},
     "output_type": "execute_result"
    }
   ],
   "source": [
    "kmeans.cluster_centers_ - finalList[-3:, 1:]"
   ]
  },
  {
   "cell_type": "markdown",
   "metadata": {},
   "source": [
    "So we get a very different results here but it is hard to compare because of the random initialization.\n",
    "\n",
    "Let's stick to the Sci-Kit Learn library as they make it very easy and it has better options for centroid initilization, in addition to not having to choose the number of interations."
   ]
  },
  {
   "cell_type": "markdown",
   "metadata": {},
   "source": [
    "## Feature Scaling <a class=\"anchor\" id=\"fourth-bullet\"></a>"
   ]
  },
  {
   "cell_type": "code",
   "execution_count": 31,
   "metadata": {},
   "outputs": [
    {
     "data": {
      "text/html": [
       "<div>\n",
       "<style scoped>\n",
       "    .dataframe tbody tr th:only-of-type {\n",
       "        vertical-align: middle;\n",
       "    }\n",
       "\n",
       "    .dataframe tbody tr th {\n",
       "        vertical-align: top;\n",
       "    }\n",
       "\n",
       "    .dataframe thead th {\n",
       "        text-align: right;\n",
       "    }\n",
       "</style>\n",
       "<table border=\"1\" class=\"dataframe\">\n",
       "  <thead>\n",
       "    <tr style=\"text-align: right;\">\n",
       "      <th></th>\n",
       "      <th>0</th>\n",
       "    </tr>\n",
       "  </thead>\n",
       "  <tbody>\n",
       "    <tr>\n",
       "      <th>Quantity1</th>\n",
       "      <td>417.545326</td>\n",
       "    </tr>\n",
       "    <tr>\n",
       "      <th>NumTransactions1</th>\n",
       "      <td>2.392064</td>\n",
       "    </tr>\n",
       "    <tr>\n",
       "      <th>UnitPrice1</th>\n",
       "      <td>0.030445</td>\n",
       "    </tr>\n",
       "    <tr>\n",
       "      <th>Prod1</th>\n",
       "      <td>0.481560</td>\n",
       "    </tr>\n",
       "    <tr>\n",
       "      <th>Quantity2</th>\n",
       "      <td>378.732258</td>\n",
       "    </tr>\n",
       "    <tr>\n",
       "      <th>NumTransactions2</th>\n",
       "      <td>0.999222</td>\n",
       "    </tr>\n",
       "    <tr>\n",
       "      <th>UnitPrice2</th>\n",
       "      <td>0.013614</td>\n",
       "    </tr>\n",
       "    <tr>\n",
       "      <th>Prod2</th>\n",
       "      <td>0.446760</td>\n",
       "    </tr>\n",
       "    <tr>\n",
       "      <th>Quantity3</th>\n",
       "      <td>211.509360</td>\n",
       "    </tr>\n",
       "    <tr>\n",
       "      <th>NumTransactions3</th>\n",
       "      <td>2.559931</td>\n",
       "    </tr>\n",
       "    <tr>\n",
       "      <th>UnitPrice3</th>\n",
       "      <td>0.092090</td>\n",
       "    </tr>\n",
       "    <tr>\n",
       "      <th>Prod3</th>\n",
       "      <td>0.495313</td>\n",
       "    </tr>\n",
       "  </tbody>\n",
       "</table>\n",
       "</div>"
      ],
      "text/plain": [
       "                           0\n",
       "Quantity1         417.545326\n",
       "NumTransactions1    2.392064\n",
       "UnitPrice1          0.030445\n",
       "Prod1               0.481560\n",
       "Quantity2         378.732258\n",
       "NumTransactions2    0.999222\n",
       "UnitPrice2          0.013614\n",
       "Prod2               0.446760\n",
       "Quantity3         211.509360\n",
       "NumTransactions3    2.559931\n",
       "UnitPrice3          0.092090\n",
       "Prod3               0.495313"
      ]
     },
     "execution_count": 31,
     "metadata": {},
     "output_type": "execute_result"
    }
   ],
   "source": [
    "mean = pd.DataFrame(features.mean())\n",
    "stdv = pd.DataFrame(features.std())\n",
    "\n",
    "mean.head()\n",
    "stdv"
   ]
  },
  {
   "cell_type": "code",
   "execution_count": 32,
   "metadata": {},
   "outputs": [],
   "source": [
    "mean = mean.to_numpy()\n",
    "stdv = stdv.to_numpy()\n",
    "\n",
    "mean = np.transpose(mean)\n",
    "stdv = np.transpose(stdv)"
   ]
  },
  {
   "cell_type": "code",
   "execution_count": 33,
   "metadata": {},
   "outputs": [
    {
     "name": "stdout",
     "output_type": "stream",
     "text": [
      "(1, 12) (1, 12)\n"
     ]
    }
   ],
   "source": [
    "print(mean.shape, stdv.shape)"
   ]
  },
  {
   "cell_type": "code",
   "execution_count": 34,
   "metadata": {},
   "outputs": [],
   "source": [
    "featuresArray = features.to_numpy()\n",
    "\n",
    "#feature scaling\n",
    "featuresScaled= (featuresArray - mean) / stdv"
   ]
  },
  {
   "cell_type": "code",
   "execution_count": 35,
   "metadata": {},
   "outputs": [
    {
     "name": "stdout",
     "output_type": "stream",
     "text": [
      "(1116, 12) (1116, 12)\n"
     ]
    }
   ],
   "source": [
    "print(featuresArray.shape, featuresScaled.shape)  #sanity check"
   ]
  },
  {
   "cell_type": "code",
   "execution_count": 36,
   "metadata": {},
   "outputs": [
    {
     "name": "stdout",
     "output_type": "stream",
     "text": [
      "max: [27.89721388 14.21291771 25.90205923  1.3192626  26.48920471 10.57991815\n",
      " 25.18547343  1.62259603 22.03031716  9.57477027 22.797232    0.86835518] \n",
      " min: [-0.10453654 -0.41879822 -3.98744818 -0.75732    -0.12590343 -0.428649\n",
      " -7.86935383 -0.61574411 -0.35167106 -0.58175288 -4.13306625 -1.15057061]\n"
     ]
    }
   ],
   "source": [
    "np.set_printoptions(threshold=np.inf)\n",
    "\n",
    "max = np.amax(featuresScaled, axis=0)\n",
    "min = np.amin(featuresScaled, axis=0)\n",
    "print('max:', max, '\\n', 'min:', min)"
   ]
  },
  {
   "cell_type": "markdown",
   "metadata": {},
   "source": [
    "## Determining number of clusters <a class=\"anchor\" id=\"fifth-bullet\"></a>"
   ]
  },
  {
   "cell_type": "code",
   "execution_count": 45,
   "metadata": {},
   "outputs": [
    {
     "data": {
      "application/vnd.jupyter.widget-view+json": {
       "model_id": "ff9e3bdb88704ee393f2b209d37a8ed7",
       "version_major": 2,
       "version_minor": 0
      },
      "text/plain": [
       "HBox(children=(FloatProgress(value=0.0, max=11.0), HTML(value='')))"
      ]
     },
     "metadata": {},
     "output_type": "display_data"
    },
    {
     "name": "stdout",
     "output_type": "stream",
     "text": [
      "\n"
     ]
    }
   ],
   "source": [
    "elbow_data = np.array([])\n",
    "\n",
    "for k in trange(1, 12):\n",
    "    kmeans = KMeans(n_clusters = k)\n",
    "    kmeans.fit(featuresScaled)\n",
    "    elbow_data = np.append(elbow_data, values = [k, kmeans.inertia_])"
   ]
  },
  {
   "cell_type": "code",
   "execution_count": 86,
   "metadata": {},
   "outputs": [],
   "source": [
    "elbow_data = elbow_data.reshape(-1, 2)"
   ]
  },
  {
   "cell_type": "code",
   "execution_count": 88,
   "metadata": {},
   "outputs": [
    {
     "data": {
      "text/plain": [
       "(0.0, 12.0)"
      ]
     },
     "execution_count": 88,
     "metadata": {},
     "output_type": "execute_result"
    },
    {
     "data": {
      "image/png": "[encoded data removed]",
      "text/plain": [
       "<Figure size 432x288 with 1 Axes>"
      ]
     },
     "metadata": {
      "needs_background": "light"
     },
     "output_type": "display_data"
    }
   ],
   "source": [
    "plt.plot(elbow_data[:,0], elbow_data[:,1])\n",
    "plt.xlabel('k')\n",
    "plt.ylabel('Inertia')\n",
    "plt.xlim(0,12)"
   ]
  },
  {
   "cell_type": "markdown",
   "metadata": {},
   "source": [
    "The 'elbow' seems to be around 8-11. Any where in this range is fine for the number of clusters. Let's try 8."
   ]
  },
  {
   "cell_type": "markdown",
   "metadata": {},
   "source": [
    "## Running the clustering model again with feature scaling and more clusters <a class=\"anchor\" id=\"sixth-bullet\"></a>"
   ]
  },
  {
   "cell_type": "code",
   "execution_count": 41,
   "metadata": {},
   "outputs": [],
   "source": [
    "#Run the clustering model with k clusters\n",
    "k=8\n",
    "kmeans = KMeans(n_clusters = k)\n",
    "y_pred = kmeans.fit_predict(featuresScaled)"
   ]
  },
  {
   "cell_type": "code",
   "execution_count": 42,
   "metadata": {},
   "outputs": [
    {
     "name": "stdout",
     "output_type": "stream",
     "text": [
      "clusters:  [0 1 2 3 4 5 6 7] number of data points: [453 286 239   1   3  12   2 120]\n"
     ]
    }
   ],
   "source": [
    "unique, counts = np.unique(y_pred, return_counts=True)\n",
    "print('clusters: ', unique, 'number of data points:',counts)"
   ]
  },
  {
   "cell_type": "markdown",
   "metadata": {},
   "source": [
    "We will first visualize the data by product. We will plot the data for quantity, unit price, and number of transactions. Next, we will plot the clusters that the algorithm found for those metrics."
   ]
  },
  {
   "cell_type": "code",
   "execution_count": 43,
   "metadata": {},
   "outputs": [
    {
     "data": {
      "text/plain": [
       "(-5.0, 25.0)"
      ]
     },
     "execution_count": 43,
     "metadata": {},
     "output_type": "execute_result"
    },
    {
     "data": {
      "image/png": "[encoded data removed]",
      "text/plain": [
       "<Figure size 432x288 with 1 Axes>"
      ]
     },
     "metadata": {
      "needs_background": "light"
     },
     "output_type": "display_data"
    }
   ],
   "source": [
    "#Plot the data for product 1\n",
    "fig = plt.figure()\n",
    "ax = fig.add_subplot(111, projection='3d')\n",
    "\n",
    "ax.scatter(featuresScaled[:,0], featuresScaled[:,1], featuresScaled[:,2], c = y_pred, cmap = 'jet')\n",
    "ax.set_xlabel('Quantity')\n",
    "ax.set_ylabel('Unit Price')\n",
    "ax.set_zlabel('Number Transactions')\n",
    "\n",
    "ax.set_xlim((0, 25))\n",
    "ax.set_ylim((0, 14))\n",
    "ax.set_zlim((-5, 25))"
   ]
  },
  {
   "cell_type": "code",
   "execution_count": 44,
   "metadata": {},
   "outputs": [
    {
     "data": {
      "text/plain": [
       "(-5.0, 25.0)"
      ]
     },
     "execution_count": 44,
     "metadata": {},
     "output_type": "execute_result"
    },
    {
     "data": {
      "image/png": "[encoded data removed]",
      "text/plain": [
       "<Figure size 432x288 with 2 Axes>"
      ]
     },
     "metadata": {
      "needs_background": "light"
     },
     "output_type": "display_data"
    }
   ],
   "source": [
    "# where cluster centers are for product 1\n",
    "fig = plt.figure()\n",
    "ax = fig.add_subplot(111, projection='3d')\n",
    "\n",
    "ax = fig.add_subplot(111, projection='3d')\n",
    "ax.scatter(kmeans.cluster_centers_[:,0], kmeans.cluster_centers_[:,1], kmeans.cluster_centers_[:,2], c = [0, 1, 2, 3, 4, 5, 6, 7], cmap = 'jet')\n",
    "ax.set_xlabel('Quantity')\n",
    "ax.set_ylabel('Unit Price')\n",
    "ax.set_zlabel('Number Transactions')\n",
    "\n",
    "ax.set_xlim((0, 25))\n",
    "ax.set_ylim((0, 14))\n",
    "ax.set_zlim((-5, 25))"
   ]
  },
  {
   "cell_type": "code",
   "execution_count": 119,
   "metadata": {},
   "outputs": [
    {
     "data": {
      "text/plain": [
       "(-5.0, 25.0)"
      ]
     },
     "execution_count": 119,
     "metadata": {},
     "output_type": "execute_result"
    },
    {
     "data": {
      "image/png": "[encoded data removed]",
      "text/plain": [
       "<Figure size 432x288 with 1 Axes>"
      ]
     },
     "metadata": {
      "needs_background": "light"
     },
     "output_type": "display_data"
    }
   ],
   "source": [
    "#Plot the data for product 2\n",
    "fig = plt.figure()\n",
    "ax = fig.add_subplot(111, projection='3d')\n",
    "\n",
    "ax.scatter(featuresScaled[:,4], featuresScaled[:,5], featuresScaled[:,6], c = y_pred, cmap = 'jet')\n",
    "ax.set_xlabel('Quantity')\n",
    "ax.set_ylabel('Unit Price')\n",
    "ax.set_zlabel('Number Transactions')\n",
    "\n",
    "ax.set_xlim((0, 25))\n",
    "ax.set_ylim((0, 14))\n",
    "ax.set_zlim((-5, 25))"
   ]
  },
  {
   "cell_type": "code",
   "execution_count": 120,
   "metadata": {},
   "outputs": [
    {
     "data": {
      "text/plain": [
       "(-5.0, 25.0)"
      ]
     },
     "execution_count": 120,
     "metadata": {},
     "output_type": "execute_result"
    },
    {
     "data": {
      "image/png": "[encoded data removed]",
      "text/plain": [
       "<Figure size 432x288 with 2 Axes>"
      ]
     },
     "metadata": {
      "needs_background": "light"
     },
     "output_type": "display_data"
    }
   ],
   "source": [
    "#Where are cluster centers for product 2\n",
    "fig = plt.figure()\n",
    "ax = fig.add_subplot(111, projection='3d')\n",
    "\n",
    "ax = fig.add_subplot(111, projection='3d')\n",
    "ax.scatter(kmeans.cluster_centers_[:,4], kmeans.cluster_centers_[:,5], kmeans.cluster_centers_[:,6], c = [0, 1, 2, 3, 4, 5, 6, 7], cmap = 'jet')\n",
    "ax.set_xlabel('Quantity')\n",
    "ax.set_ylabel('Unit Price')\n",
    "ax.set_zlabel('Number Transactions')\n",
    "\n",
    "ax.set_xlim((0, 25))\n",
    "ax.set_ylim((0, 14))\n",
    "ax.set_zlim((-5, 25))"
   ]
  },
  {
   "cell_type": "code",
   "execution_count": 121,
   "metadata": {},
   "outputs": [
    {
     "data": {
      "text/plain": [
       "(-5.0, 25.0)"
      ]
     },
     "execution_count": 121,
     "metadata": {},
     "output_type": "execute_result"
    },
    {
     "data": {
      "image/png": "[encoded data removed]",
      "text/plain": [
       "<Figure size 432x288 with 1 Axes>"
      ]
     },
     "metadata": {
      "needs_background": "light"
     },
     "output_type": "display_data"
    }
   ],
   "source": [
    "#Plot the data for product 3\n",
    "fig = plt.figure()\n",
    "ax = fig.add_subplot(111, projection='3d')\n",
    "\n",
    "ax.scatter(featuresScaled[:,8], featuresScaled[:,9], featuresScaled[:,10], c = y_pred, cmap = 'jet')\n",
    "ax.set_xlabel('Quantity')\n",
    "ax.set_ylabel('Unit Price')\n",
    "ax.set_zlabel('Number Transactions')\n",
    "\n",
    "ax.set_xlim((0, 25))\n",
    "ax.set_ylim((0, 14))\n",
    "ax.set_zlim((-5, 25))"
   ]
  },
  {
   "cell_type": "code",
   "execution_count": 45,
   "metadata": {},
   "outputs": [
    {
     "data": {
      "text/plain": [
       "(-5.0, 25.0)"
      ]
     },
     "execution_count": 45,
     "metadata": {},
     "output_type": "execute_result"
    },
    {
     "data": {
      "image/png": "[encoded data removed]",
      "text/plain": [
       "<Figure size 432x288 with 2 Axes>"
      ]
     },
     "metadata": {
      "needs_background": "light"
     },
     "output_type": "display_data"
    }
   ],
   "source": [
    "#Where are cluster centers for product 3\n",
    "fig = plt.figure()\n",
    "ax = fig.add_subplot(111, projection='3d')\n",
    "\n",
    "ax = fig.add_subplot(111, projection='3d')\n",
    "ax.scatter(kmeans.cluster_centers_[:,8], kmeans.cluster_centers_[:,9], kmeans.cluster_centers_[:,10], c = [0, 1, 2, 3, 4, 5, 6, 7], cmap = 'jet')\n",
    "ax.set_xlabel('Quantity')\n",
    "ax.set_ylabel('Unit Price')\n",
    "ax.set_zlabel('Number Transactions')\n",
    "\n",
    "ax.set_xlim((0, 25))\n",
    "ax.set_ylim((0, 14))\n",
    "ax.set_zlim((-5, 25))"
   ]
  },
  {
   "cell_type": "markdown",
   "metadata": {},
   "source": [
    "Let's see what each cluster represents. Below there are color maps of the centroids.\n",
    "\n",
    "On the horizonatal axis is 3 discrete columns for each product 1-3 from left to right. The vertical axis represents each of the centroids (8 in total).\n",
    "\n",
    "There are 4 plots total for Quantity, Unit Price, Number of Transactions, classification-- if the product was sold or not."
   ]
  },
  {
   "cell_type": "code",
   "execution_count": 46,
   "metadata": {},
   "outputs": [
    {
     "data": {
      "image/png": "[encoded data removed]",
      "text/plain": [
       "<Figure size 432x288 with 2 Axes>"
      ]
     },
     "metadata": {
      "needs_background": "light"
     },
     "output_type": "display_data"
    }
   ],
   "source": [
    "#Quantity\n",
    "quantity_columns = [0, 4, 8]\n",
    "\n",
    "plt.pcolor( kmeans.cluster_centers_[:, quantity_columns], cmap = 'jet' )\n",
    "plt.colorbar()\n",
    "plt.show()"
   ]
  },
  {
   "cell_type": "code",
   "execution_count": 47,
   "metadata": {},
   "outputs": [
    {
     "data": {
      "image/png": "[encoded data removed]",
      "text/plain": [
       "<Figure size 432x288 with 2 Axes>"
      ]
     },
     "metadata": {
      "needs_background": "light"
     },
     "output_type": "display_data"
    }
   ],
   "source": [
    "#Unit Price\n",
    "UP_columns = [1, 5, 9]\n",
    "\n",
    "plt.pcolor( kmeans.cluster_centers_[:, UP_columns], cmap = 'jet' )\n",
    "plt.colorbar()\n",
    "plt.show()"
   ]
  },
  {
   "cell_type": "code",
   "execution_count": 48,
   "metadata": {},
   "outputs": [
    {
     "data": {
      "image/png": "[encoded data removed]",
      "text/plain": [
       "<Figure size 432x288 with 2 Axes>"
      ]
     },
     "metadata": {
      "needs_background": "light"
     },
     "output_type": "display_data"
    }
   ],
   "source": [
    "#Number of Transactions\n",
    "num_trans_columns = [2, 6, 10]\n",
    "\n",
    "plt.pcolor( kmeans.cluster_centers_[:, num_trans_columns], cmap = 'jet' ) \n",
    "plt.colorbar()\n",
    "plt.show()"
   ]
  },
  {
   "cell_type": "code",
   "execution_count": 49,
   "metadata": {},
   "outputs": [
    {
     "data": {
      "image/png": "[encoded data removed]",
      "text/plain": [
       "<Figure size 432x288 with 2 Axes>"
      ]
     },
     "metadata": {
      "needs_background": "light"
     },
     "output_type": "display_data"
    }
   ],
   "source": [
    "#Classification-- customer bought product or not\n",
    "buy_prod_columns = [3, 7, 11]\n",
    "\n",
    "plt.pcolor( kmeans.cluster_centers_[:, buy_prod_columns], cmap = 'jet' ) \n",
    "plt.colorbar()\n",
    "plt.show()"
   ]
  },
  {
   "cell_type": "markdown",
   "metadata": {},
   "source": [
    "Here's a summary of this info. Colors have been converted to low (L), medium (M), high (H).\n",
    "\n",
    "| ///  | Q1 |UP1|#T1| P1 | Q2 | UP2 | #T2 | P2 | Q3 | UP3 | #T3 | P3 |\n",
    "| --- | --- | --- | --- | --- | --- | --- | --- | --- | --- | --- | --- | ---|\n",
    "| 0 | L  | L | L  | L  | L  |  L | L | L  | L  | L | L |  H |\n",
    "| 1 | L  | L | L  | L  | L  |  L | L | H  | L  | L | L |  L | \n",
    "| 2 | L  | L | L  |  H | L  | L  | L | L  |  L | L |L | L  |\n",
    "| 3 | L  | M | H  | H  | L  |  H | H | H  | L  | L | H |  H | \n",
    "| 4 | H  | M | L  | H  | L  |  L | L | L  | L  | L | L | L  | \n",
    "| 5 | L  | L | L  | M  | L  |  L | L | L  | M  | M | L |  H | \n",
    "| 6 | L  | L | L  | L  | H  |  H | L | H  | L  | L | L |  L | \n",
    "| 7 | L  | L |  L | H  |  L | L  | L |  L |  L | L | L |  M |"
   ]
  },
  {
   "cell_type": "markdown",
   "metadata": {},
   "source": [
    "**0th cluster:** Buys a lot of product 3 at a low price, not many transactions. Doesn't buy many of the other products.\n",
    "\n",
    "**1th cluster:** Buys a lot of product 2 at a low price, not many transactions. Doesn't buy many of the other products.\n",
    "\n",
    "**2th cluster:** Buys a lot of product 1 at a low price, not many transactions. Doesn't buy many of the other products.\n",
    "\n",
    "**3th cluster:** Buys all 3 products and often, unit price varies depending on product.\n",
    "\n",
    "**4th cluster:** Tends to buy product 1 for high prices and quantities, but does so infrequently.\n",
    "\n",
    "**5rd cluster:** Buys products 1 and 3, pays more for product 3 than most. Does not place many transactions.\n",
    "\n",
    "**6nd cluster:** Tends to buy product 2 for high prices and quantities, but does so infrequently.\n",
    "\n",
    "**7st cluster:** Buys all mostly product 1 and 3, but places few orders with few quantities. Unit price is generally low.\n",
    "\n",
    "The 5th and 7th cluster buy products 1 and 3 but the 7th cluster has a much better deal.\n",
    "\n",
    "The 2nd and 4th cluster are also similar in that they mainly buy product 1, but the 4th cluster buys them at a higher price and buys more of them!\n",
    "\n",
    "Let's have a look at the countries these customers are from to see if we can learn anything more there."
   ]
  },
  {
   "cell_type": "code",
   "execution_count": 50,
   "metadata": {},
   "outputs": [],
   "source": [
    "#add cluster prediction to the feature vector\n",
    "featuresReset = features.reset_index(drop = False)\n",
    "yPredDF = pd.DataFrame(y_pred)\n",
    "\n",
    "clustersFeatures = pd.concat([featuresReset, yPredDF], axis = 1)"
   ]
  },
  {
   "cell_type": "code",
   "execution_count": 51,
   "metadata": {},
   "outputs": [
    {
     "data": {
      "text/html": [
       "<div>\n",
       "<style scoped>\n",
       "    .dataframe tbody tr th:only-of-type {\n",
       "        vertical-align: middle;\n",
       "    }\n",
       "\n",
       "    .dataframe tbody tr th {\n",
       "        vertical-align: top;\n",
       "    }\n",
       "\n",
       "    .dataframe thead th {\n",
       "        text-align: right;\n",
       "    }\n",
       "</style>\n",
       "<table border=\"1\" class=\"dataframe\">\n",
       "  <thead>\n",
       "    <tr style=\"text-align: right;\">\n",
       "      <th></th>\n",
       "      <th>index</th>\n",
       "      <th>Quantity1</th>\n",
       "      <th>NumTransactions1</th>\n",
       "      <th>UnitPrice1</th>\n",
       "      <th>Prod1</th>\n",
       "      <th>Quantity2</th>\n",
       "      <th>NumTransactions2</th>\n",
       "      <th>UnitPrice2</th>\n",
       "      <th>Prod2</th>\n",
       "      <th>Quantity3</th>\n",
       "      <th>NumTransactions3</th>\n",
       "      <th>UnitPrice3</th>\n",
       "      <th>Prod3</th>\n",
       "      <th>0</th>\n",
       "    </tr>\n",
       "  </thead>\n",
       "  <tbody>\n",
       "    <tr>\n",
       "      <th>0</th>\n",
       "      <td>12359.0</td>\n",
       "      <td>0.0</td>\n",
       "      <td>0.0</td>\n",
       "      <td>0.8414</td>\n",
       "      <td>0.0</td>\n",
       "      <td>0.0</td>\n",
       "      <td>0.0</td>\n",
       "      <td>0.287131</td>\n",
       "      <td>0.0</td>\n",
       "      <td>10.0</td>\n",
       "      <td>1.0</td>\n",
       "      <td>2.080000</td>\n",
       "      <td>1.0</td>\n",
       "      <td>0</td>\n",
       "    </tr>\n",
       "    <tr>\n",
       "      <th>1</th>\n",
       "      <td>12362.0</td>\n",
       "      <td>36.0</td>\n",
       "      <td>1.0</td>\n",
       "      <td>0.8500</td>\n",
       "      <td>1.0</td>\n",
       "      <td>0.0</td>\n",
       "      <td>0.0</td>\n",
       "      <td>0.287131</td>\n",
       "      <td>0.0</td>\n",
       "      <td>20.0</td>\n",
       "      <td>2.0</td>\n",
       "      <td>2.080000</td>\n",
       "      <td>1.0</td>\n",
       "      <td>7</td>\n",
       "    </tr>\n",
       "    <tr>\n",
       "      <th>2</th>\n",
       "      <td>12373.0</td>\n",
       "      <td>0.0</td>\n",
       "      <td>0.0</td>\n",
       "      <td>0.8414</td>\n",
       "      <td>0.0</td>\n",
       "      <td>0.0</td>\n",
       "      <td>0.0</td>\n",
       "      <td>0.287131</td>\n",
       "      <td>0.0</td>\n",
       "      <td>10.0</td>\n",
       "      <td>1.0</td>\n",
       "      <td>1.950000</td>\n",
       "      <td>1.0</td>\n",
       "      <td>0</td>\n",
       "    </tr>\n",
       "    <tr>\n",
       "      <th>3</th>\n",
       "      <td>12377.0</td>\n",
       "      <td>12.0</td>\n",
       "      <td>1.0</td>\n",
       "      <td>0.8500</td>\n",
       "      <td>1.0</td>\n",
       "      <td>0.0</td>\n",
       "      <td>0.0</td>\n",
       "      <td>0.287131</td>\n",
       "      <td>0.0</td>\n",
       "      <td>0.0</td>\n",
       "      <td>0.0</td>\n",
       "      <td>2.030612</td>\n",
       "      <td>0.0</td>\n",
       "      <td>2</td>\n",
       "    </tr>\n",
       "    <tr>\n",
       "      <th>4</th>\n",
       "      <td>12379.0</td>\n",
       "      <td>0.0</td>\n",
       "      <td>0.0</td>\n",
       "      <td>0.8414</td>\n",
       "      <td>0.0</td>\n",
       "      <td>0.0</td>\n",
       "      <td>0.0</td>\n",
       "      <td>0.287131</td>\n",
       "      <td>0.0</td>\n",
       "      <td>10.0</td>\n",
       "      <td>1.0</td>\n",
       "      <td>2.080000</td>\n",
       "      <td>1.0</td>\n",
       "      <td>0</td>\n",
       "    </tr>\n",
       "    <tr>\n",
       "      <th>...</th>\n",
       "      <td>...</td>\n",
       "      <td>...</td>\n",
       "      <td>...</td>\n",
       "      <td>...</td>\n",
       "      <td>...</td>\n",
       "      <td>...</td>\n",
       "      <td>...</td>\n",
       "      <td>...</td>\n",
       "      <td>...</td>\n",
       "      <td>...</td>\n",
       "      <td>...</td>\n",
       "      <td>...</td>\n",
       "      <td>...</td>\n",
       "      <td>...</td>\n",
       "    </tr>\n",
       "    <tr>\n",
       "      <th>1111</th>\n",
       "      <td>18226.0</td>\n",
       "      <td>0.0</td>\n",
       "      <td>0.0</td>\n",
       "      <td>0.8414</td>\n",
       "      <td>0.0</td>\n",
       "      <td>0.0</td>\n",
       "      <td>0.0</td>\n",
       "      <td>0.287131</td>\n",
       "      <td>0.0</td>\n",
       "      <td>90.0</td>\n",
       "      <td>6.0</td>\n",
       "      <td>2.058333</td>\n",
       "      <td>1.0</td>\n",
       "      <td>0</td>\n",
       "    </tr>\n",
       "    <tr>\n",
       "      <th>1112</th>\n",
       "      <td>18235.0</td>\n",
       "      <td>0.0</td>\n",
       "      <td>0.0</td>\n",
       "      <td>0.8414</td>\n",
       "      <td>0.0</td>\n",
       "      <td>48.0</td>\n",
       "      <td>1.0</td>\n",
       "      <td>0.290000</td>\n",
       "      <td>1.0</td>\n",
       "      <td>10.0</td>\n",
       "      <td>1.0</td>\n",
       "      <td>2.080000</td>\n",
       "      <td>1.0</td>\n",
       "      <td>1</td>\n",
       "    </tr>\n",
       "    <tr>\n",
       "      <th>1113</th>\n",
       "      <td>18241.0</td>\n",
       "      <td>0.0</td>\n",
       "      <td>0.0</td>\n",
       "      <td>0.8414</td>\n",
       "      <td>0.0</td>\n",
       "      <td>0.0</td>\n",
       "      <td>0.0</td>\n",
       "      <td>0.287131</td>\n",
       "      <td>0.0</td>\n",
       "      <td>20.0</td>\n",
       "      <td>2.0</td>\n",
       "      <td>2.080000</td>\n",
       "      <td>1.0</td>\n",
       "      <td>0</td>\n",
       "    </tr>\n",
       "    <tr>\n",
       "      <th>1114</th>\n",
       "      <td>18257.0</td>\n",
       "      <td>0.0</td>\n",
       "      <td>0.0</td>\n",
       "      <td>0.8414</td>\n",
       "      <td>0.0</td>\n",
       "      <td>48.0</td>\n",
       "      <td>1.0</td>\n",
       "      <td>0.290000</td>\n",
       "      <td>1.0</td>\n",
       "      <td>30.0</td>\n",
       "      <td>3.0</td>\n",
       "      <td>2.036667</td>\n",
       "      <td>1.0</td>\n",
       "      <td>1</td>\n",
       "    </tr>\n",
       "    <tr>\n",
       "      <th>1115</th>\n",
       "      <td>18283.0</td>\n",
       "      <td>7.0</td>\n",
       "      <td>2.0</td>\n",
       "      <td>0.8500</td>\n",
       "      <td>1.0</td>\n",
       "      <td>0.0</td>\n",
       "      <td>0.0</td>\n",
       "      <td>0.287131</td>\n",
       "      <td>0.0</td>\n",
       "      <td>17.0</td>\n",
       "      <td>10.0</td>\n",
       "      <td>2.067000</td>\n",
       "      <td>1.0</td>\n",
       "      <td>7</td>\n",
       "    </tr>\n",
       "  </tbody>\n",
       "</table>\n",
       "<p>1116 rows × 14 columns</p>\n",
       "</div>"
      ],
      "text/plain": [
       "        index  Quantity1  NumTransactions1  UnitPrice1  Prod1  Quantity2  \\\n",
       "0     12359.0        0.0               0.0      0.8414    0.0        0.0   \n",
       "1     12362.0       36.0               1.0      0.8500    1.0        0.0   \n",
       "2     12373.0        0.0               0.0      0.8414    0.0        0.0   \n",
       "3     12377.0       12.0               1.0      0.8500    1.0        0.0   \n",
       "4     12379.0        0.0               0.0      0.8414    0.0        0.0   \n",
       "...       ...        ...               ...         ...    ...        ...   \n",
       "1111  18226.0        0.0               0.0      0.8414    0.0        0.0   \n",
       "1112  18235.0        0.0               0.0      0.8414    0.0       48.0   \n",
       "1113  18241.0        0.0               0.0      0.8414    0.0        0.0   \n",
       "1114  18257.0        0.0               0.0      0.8414    0.0       48.0   \n",
       "1115  18283.0        7.0               2.0      0.8500    1.0        0.0   \n",
       "\n",
       "      NumTransactions2  UnitPrice2  Prod2  Quantity3  NumTransactions3  \\\n",
       "0                  0.0    0.287131    0.0       10.0               1.0   \n",
       "1                  0.0    0.287131    0.0       20.0               2.0   \n",
       "2                  0.0    0.287131    0.0       10.0               1.0   \n",
       "3                  0.0    0.287131    0.0        0.0               0.0   \n",
       "4                  0.0    0.287131    0.0       10.0               1.0   \n",
       "...                ...         ...    ...        ...               ...   \n",
       "1111               0.0    0.287131    0.0       90.0               6.0   \n",
       "1112               1.0    0.290000    1.0       10.0               1.0   \n",
       "1113               0.0    0.287131    0.0       20.0               2.0   \n",
       "1114               1.0    0.290000    1.0       30.0               3.0   \n",
       "1115               0.0    0.287131    0.0       17.0              10.0   \n",
       "\n",
       "      UnitPrice3  Prod3  0  \n",
       "0       2.080000    1.0  0  \n",
       "1       2.080000    1.0  7  \n",
       "2       1.950000    1.0  0  \n",
       "3       2.030612    0.0  2  \n",
       "4       2.080000    1.0  0  \n",
       "...          ...    ... ..  \n",
       "1111    2.058333    1.0  0  \n",
       "1112    2.080000    1.0  1  \n",
       "1113    2.080000    1.0  0  \n",
       "1114    2.036667    1.0  1  \n",
       "1115    2.067000    1.0  7  \n",
       "\n",
       "[1116 rows x 14 columns]"
      ]
     },
     "execution_count": 51,
     "metadata": {},
     "output_type": "execute_result"
    }
   ],
   "source": [
    "clustersFeatures"
   ]
  },
  {
   "cell_type": "code",
   "execution_count": 52,
   "metadata": {},
   "outputs": [],
   "source": [
    "clustersFeatures.set_index('index', inplace = True, drop = True)"
   ]
  },
  {
   "cell_type": "code",
   "execution_count": 53,
   "metadata": {},
   "outputs": [
    {
     "data": {
      "text/html": [
       "<div>\n",
       "<style scoped>\n",
       "    .dataframe tbody tr th:only-of-type {\n",
       "        vertical-align: middle;\n",
       "    }\n",
       "\n",
       "    .dataframe tbody tr th {\n",
       "        vertical-align: top;\n",
       "    }\n",
       "\n",
       "    .dataframe thead th {\n",
       "        text-align: right;\n",
       "    }\n",
       "</style>\n",
       "<table border=\"1\" class=\"dataframe\">\n",
       "  <thead>\n",
       "    <tr style=\"text-align: right;\">\n",
       "      <th></th>\n",
       "      <th>Quantity1</th>\n",
       "      <th>NumTransactions1</th>\n",
       "      <th>UnitPrice1</th>\n",
       "      <th>Prod1</th>\n",
       "      <th>Quantity2</th>\n",
       "      <th>NumTransactions2</th>\n",
       "      <th>UnitPrice2</th>\n",
       "      <th>Prod2</th>\n",
       "      <th>Quantity3</th>\n",
       "      <th>NumTransactions3</th>\n",
       "      <th>UnitPrice3</th>\n",
       "      <th>Prod3</th>\n",
       "      <th>0</th>\n",
       "    </tr>\n",
       "    <tr>\n",
       "      <th>index</th>\n",
       "      <th></th>\n",
       "      <th></th>\n",
       "      <th></th>\n",
       "      <th></th>\n",
       "      <th></th>\n",
       "      <th></th>\n",
       "      <th></th>\n",
       "      <th></th>\n",
       "      <th></th>\n",
       "      <th></th>\n",
       "      <th></th>\n",
       "      <th></th>\n",
       "      <th></th>\n",
       "    </tr>\n",
       "  </thead>\n",
       "  <tbody>\n",
       "    <tr>\n",
       "      <th>12359.0</th>\n",
       "      <td>0.0</td>\n",
       "      <td>0.0</td>\n",
       "      <td>0.8414</td>\n",
       "      <td>0.0</td>\n",
       "      <td>0.0</td>\n",
       "      <td>0.0</td>\n",
       "      <td>0.287131</td>\n",
       "      <td>0.0</td>\n",
       "      <td>10.0</td>\n",
       "      <td>1.0</td>\n",
       "      <td>2.080000</td>\n",
       "      <td>1.0</td>\n",
       "      <td>0</td>\n",
       "    </tr>\n",
       "    <tr>\n",
       "      <th>12362.0</th>\n",
       "      <td>36.0</td>\n",
       "      <td>1.0</td>\n",
       "      <td>0.8500</td>\n",
       "      <td>1.0</td>\n",
       "      <td>0.0</td>\n",
       "      <td>0.0</td>\n",
       "      <td>0.287131</td>\n",
       "      <td>0.0</td>\n",
       "      <td>20.0</td>\n",
       "      <td>2.0</td>\n",
       "      <td>2.080000</td>\n",
       "      <td>1.0</td>\n",
       "      <td>7</td>\n",
       "    </tr>\n",
       "    <tr>\n",
       "      <th>12373.0</th>\n",
       "      <td>0.0</td>\n",
       "      <td>0.0</td>\n",
       "      <td>0.8414</td>\n",
       "      <td>0.0</td>\n",
       "      <td>0.0</td>\n",
       "      <td>0.0</td>\n",
       "      <td>0.287131</td>\n",
       "      <td>0.0</td>\n",
       "      <td>10.0</td>\n",
       "      <td>1.0</td>\n",
       "      <td>1.950000</td>\n",
       "      <td>1.0</td>\n",
       "      <td>0</td>\n",
       "    </tr>\n",
       "    <tr>\n",
       "      <th>12377.0</th>\n",
       "      <td>12.0</td>\n",
       "      <td>1.0</td>\n",
       "      <td>0.8500</td>\n",
       "      <td>1.0</td>\n",
       "      <td>0.0</td>\n",
       "      <td>0.0</td>\n",
       "      <td>0.287131</td>\n",
       "      <td>0.0</td>\n",
       "      <td>0.0</td>\n",
       "      <td>0.0</td>\n",
       "      <td>2.030612</td>\n",
       "      <td>0.0</td>\n",
       "      <td>2</td>\n",
       "    </tr>\n",
       "    <tr>\n",
       "      <th>12379.0</th>\n",
       "      <td>0.0</td>\n",
       "      <td>0.0</td>\n",
       "      <td>0.8414</td>\n",
       "      <td>0.0</td>\n",
       "      <td>0.0</td>\n",
       "      <td>0.0</td>\n",
       "      <td>0.287131</td>\n",
       "      <td>0.0</td>\n",
       "      <td>10.0</td>\n",
       "      <td>1.0</td>\n",
       "      <td>2.080000</td>\n",
       "      <td>1.0</td>\n",
       "      <td>0</td>\n",
       "    </tr>\n",
       "    <tr>\n",
       "      <th>...</th>\n",
       "      <td>...</td>\n",
       "      <td>...</td>\n",
       "      <td>...</td>\n",
       "      <td>...</td>\n",
       "      <td>...</td>\n",
       "      <td>...</td>\n",
       "      <td>...</td>\n",
       "      <td>...</td>\n",
       "      <td>...</td>\n",
       "      <td>...</td>\n",
       "      <td>...</td>\n",
       "      <td>...</td>\n",
       "      <td>...</td>\n",
       "    </tr>\n",
       "    <tr>\n",
       "      <th>18226.0</th>\n",
       "      <td>0.0</td>\n",
       "      <td>0.0</td>\n",
       "      <td>0.8414</td>\n",
       "      <td>0.0</td>\n",
       "      <td>0.0</td>\n",
       "      <td>0.0</td>\n",
       "      <td>0.287131</td>\n",
       "      <td>0.0</td>\n",
       "      <td>90.0</td>\n",
       "      <td>6.0</td>\n",
       "      <td>2.058333</td>\n",
       "      <td>1.0</td>\n",
       "      <td>0</td>\n",
       "    </tr>\n",
       "    <tr>\n",
       "      <th>18235.0</th>\n",
       "      <td>0.0</td>\n",
       "      <td>0.0</td>\n",
       "      <td>0.8414</td>\n",
       "      <td>0.0</td>\n",
       "      <td>48.0</td>\n",
       "      <td>1.0</td>\n",
       "      <td>0.290000</td>\n",
       "      <td>1.0</td>\n",
       "      <td>10.0</td>\n",
       "      <td>1.0</td>\n",
       "      <td>2.080000</td>\n",
       "      <td>1.0</td>\n",
       "      <td>1</td>\n",
       "    </tr>\n",
       "    <tr>\n",
       "      <th>18241.0</th>\n",
       "      <td>0.0</td>\n",
       "      <td>0.0</td>\n",
       "      <td>0.8414</td>\n",
       "      <td>0.0</td>\n",
       "      <td>0.0</td>\n",
       "      <td>0.0</td>\n",
       "      <td>0.287131</td>\n",
       "      <td>0.0</td>\n",
       "      <td>20.0</td>\n",
       "      <td>2.0</td>\n",
       "      <td>2.080000</td>\n",
       "      <td>1.0</td>\n",
       "      <td>0</td>\n",
       "    </tr>\n",
       "    <tr>\n",
       "      <th>18257.0</th>\n",
       "      <td>0.0</td>\n",
       "      <td>0.0</td>\n",
       "      <td>0.8414</td>\n",
       "      <td>0.0</td>\n",
       "      <td>48.0</td>\n",
       "      <td>1.0</td>\n",
       "      <td>0.290000</td>\n",
       "      <td>1.0</td>\n",
       "      <td>30.0</td>\n",
       "      <td>3.0</td>\n",
       "      <td>2.036667</td>\n",
       "      <td>1.0</td>\n",
       "      <td>1</td>\n",
       "    </tr>\n",
       "    <tr>\n",
       "      <th>18283.0</th>\n",
       "      <td>7.0</td>\n",
       "      <td>2.0</td>\n",
       "      <td>0.8500</td>\n",
       "      <td>1.0</td>\n",
       "      <td>0.0</td>\n",
       "      <td>0.0</td>\n",
       "      <td>0.287131</td>\n",
       "      <td>0.0</td>\n",
       "      <td>17.0</td>\n",
       "      <td>10.0</td>\n",
       "      <td>2.067000</td>\n",
       "      <td>1.0</td>\n",
       "      <td>7</td>\n",
       "    </tr>\n",
       "  </tbody>\n",
       "</table>\n",
       "<p>1116 rows × 13 columns</p>\n",
       "</div>"
      ],
      "text/plain": [
       "         Quantity1  NumTransactions1  UnitPrice1  Prod1  Quantity2  \\\n",
       "index                                                                \n",
       "12359.0        0.0               0.0      0.8414    0.0        0.0   \n",
       "12362.0       36.0               1.0      0.8500    1.0        0.0   \n",
       "12373.0        0.0               0.0      0.8414    0.0        0.0   \n",
       "12377.0       12.0               1.0      0.8500    1.0        0.0   \n",
       "12379.0        0.0               0.0      0.8414    0.0        0.0   \n",
       "...            ...               ...         ...    ...        ...   \n",
       "18226.0        0.0               0.0      0.8414    0.0        0.0   \n",
       "18235.0        0.0               0.0      0.8414    0.0       48.0   \n",
       "18241.0        0.0               0.0      0.8414    0.0        0.0   \n",
       "18257.0        0.0               0.0      0.8414    0.0       48.0   \n",
       "18283.0        7.0               2.0      0.8500    1.0        0.0   \n",
       "\n",
       "         NumTransactions2  UnitPrice2  Prod2  Quantity3  NumTransactions3  \\\n",
       "index                                                                       \n",
       "12359.0               0.0    0.287131    0.0       10.0               1.0   \n",
       "12362.0               0.0    0.287131    0.0       20.0               2.0   \n",
       "12373.0               0.0    0.287131    0.0       10.0               1.0   \n",
       "12377.0               0.0    0.287131    0.0        0.0               0.0   \n",
       "12379.0               0.0    0.287131    0.0       10.0               1.0   \n",
       "...                   ...         ...    ...        ...               ...   \n",
       "18226.0               0.0    0.287131    0.0       90.0               6.0   \n",
       "18235.0               1.0    0.290000    1.0       10.0               1.0   \n",
       "18241.0               0.0    0.287131    0.0       20.0               2.0   \n",
       "18257.0               1.0    0.290000    1.0       30.0               3.0   \n",
       "18283.0               0.0    0.287131    0.0       17.0              10.0   \n",
       "\n",
       "         UnitPrice3  Prod3  0  \n",
       "index                          \n",
       "12359.0    2.080000    1.0  0  \n",
       "12362.0    2.080000    1.0  7  \n",
       "12373.0    1.950000    1.0  0  \n",
       "12377.0    2.030612    0.0  2  \n",
       "12379.0    2.080000    1.0  0  \n",
       "...             ...    ... ..  \n",
       "18226.0    2.058333    1.0  0  \n",
       "18235.0    2.080000    1.0  1  \n",
       "18241.0    2.080000    1.0  0  \n",
       "18257.0    2.036667    1.0  1  \n",
       "18283.0    2.067000    1.0  7  \n",
       "\n",
       "[1116 rows x 13 columns]"
      ]
     },
     "execution_count": 53,
     "metadata": {},
     "output_type": "execute_result"
    }
   ],
   "source": [
    "clustersFeatures"
   ]
  },
  {
   "cell_type": "code",
   "execution_count": 65,
   "metadata": {},
   "outputs": [
    {
     "data": {
      "text/plain": [
       "<bound method DataFrame.info of         CustomerID         Country\n",
       "0          17850.0  United Kingdom\n",
       "1          17850.0  United Kingdom\n",
       "2          17850.0  United Kingdom\n",
       "3          17850.0  United Kingdom\n",
       "4          17850.0  United Kingdom\n",
       "...            ...             ...\n",
       "541904     12680.0          France\n",
       "541905     12680.0          France\n",
       "541906     12680.0          France\n",
       "541907     12680.0          France\n",
       "541908     12680.0          France\n",
       "\n",
       "[541909 rows x 2 columns]>"
      ]
     },
     "execution_count": 65,
     "metadata": {},
     "output_type": "execute_result"
    }
   ],
   "source": [
    "#Get country info from the data dataframe\n",
    "data.reset_index(inplace = True)\n",
    "\n",
    "data.drop(['StockCode', 'InvoiceNo', 'Description', 'Quantity', 'InvoiceDate', 'UnitPrice'], axis = 1, inplace = True)\n",
    "data.info"
   ]
  },
  {
   "cell_type": "code",
   "execution_count": 67,
   "metadata": {},
   "outputs": [],
   "source": [
    "data.drop_duplicates(inplace = True)\n",
    "data.set_index('CustomerID', inplace = True)"
   ]
  },
  {
   "cell_type": "code",
   "execution_count": 68,
   "metadata": {},
   "outputs": [
    {
     "data": {
      "text/plain": [
       "Country    38\n",
       "dtype: int64"
      ]
     },
     "execution_count": 68,
     "metadata": {},
     "output_type": "execute_result"
    }
   ],
   "source": [
    "data.nunique()"
   ]
  },
  {
   "cell_type": "code",
   "execution_count": 69,
   "metadata": {},
   "outputs": [
    {
     "data": {
      "text/plain": [
       "Country    4389\n",
       "dtype: int64"
      ]
     },
     "execution_count": 69,
     "metadata": {},
     "output_type": "execute_result"
    }
   ],
   "source": [
    "data.count()"
   ]
  },
  {
   "cell_type": "code",
   "execution_count": 70,
   "metadata": {},
   "outputs": [
    {
     "data": {
      "text/plain": [
       "Country    object\n",
       "dtype: object"
      ]
     },
     "execution_count": 70,
     "metadata": {},
     "output_type": "execute_result"
    }
   ],
   "source": [
    "data.dtypes"
   ]
  },
  {
   "cell_type": "code",
   "execution_count": 71,
   "metadata": {},
   "outputs": [
    {
     "data": {
      "text/plain": [
       "Quantity1           object\n",
       "NumTransactions1    object\n",
       "UnitPrice1          object\n",
       "Prod1               object\n",
       "Quantity2           object\n",
       "NumTransactions2    object\n",
       "UnitPrice2          object\n",
       "Prod2               object\n",
       "Quantity3           object\n",
       "NumTransactions3    object\n",
       "UnitPrice3          object\n",
       "Prod3               object\n",
       "0                   object\n",
       "dtype: object"
      ]
     },
     "execution_count": 71,
     "metadata": {},
     "output_type": "execute_result"
    }
   ],
   "source": [
    "clustersFeatures.astype('object').dtypes"
   ]
  },
  {
   "cell_type": "code",
   "execution_count": 79,
   "metadata": {},
   "outputs": [],
   "source": [
    "#Making new dataframe that has cluster number, feature info, and country info\n",
    "clustersFeaturesData = clustersFeatures.join(data, how = 'left')\n",
    "clustersFeaturesData.reset_index(drop = False, inplace = True)\n",
    "clustersFeaturesData.drop(['index'], inplace = True, axis = 1)"
   ]
  },
  {
   "cell_type": "code",
   "execution_count": 80,
   "metadata": {},
   "outputs": [
    {
     "data": {
      "text/plain": [
       "<bound method DataFrame.info of       Quantity1  NumTransactions1  UnitPrice1  Prod1  Quantity2  \\\n",
       "0           0.0               0.0      0.8414    0.0        0.0   \n",
       "1          36.0               1.0      0.8500    1.0        0.0   \n",
       "2           0.0               0.0      0.8414    0.0        0.0   \n",
       "3          12.0               1.0      0.8500    1.0        0.0   \n",
       "4           0.0               0.0      0.8414    0.0        0.0   \n",
       "...         ...               ...         ...    ...        ...   \n",
       "1113        0.0               0.0      0.8414    0.0        0.0   \n",
       "1114        0.0               0.0      0.8414    0.0       48.0   \n",
       "1115        0.0               0.0      0.8414    0.0        0.0   \n",
       "1116        0.0               0.0      0.8414    0.0       48.0   \n",
       "1117        7.0               2.0      0.8500    1.0        0.0   \n",
       "\n",
       "      NumTransactions2  UnitPrice2  Prod2  Quantity3  NumTransactions3  \\\n",
       "0                  0.0    0.287131    0.0       10.0               1.0   \n",
       "1                  0.0    0.287131    0.0       20.0               2.0   \n",
       "2                  0.0    0.287131    0.0       10.0               1.0   \n",
       "3                  0.0    0.287131    0.0        0.0               0.0   \n",
       "4                  0.0    0.287131    0.0       10.0               1.0   \n",
       "...                ...         ...    ...        ...               ...   \n",
       "1113               0.0    0.287131    0.0       90.0               6.0   \n",
       "1114               1.0    0.290000    1.0       10.0               1.0   \n",
       "1115               0.0    0.287131    0.0       20.0               2.0   \n",
       "1116               1.0    0.290000    1.0       30.0               3.0   \n",
       "1117               0.0    0.287131    0.0       17.0              10.0   \n",
       "\n",
       "      UnitPrice3  Prod3  0         Country  \n",
       "0       2.080000    1.0  0          Cyprus  \n",
       "1       2.080000    1.0  7         Belgium  \n",
       "2       1.950000    1.0  0         Austria  \n",
       "3       2.030612    0.0  2     Switzerland  \n",
       "4       2.080000    1.0  0         Belgium  \n",
       "...          ...    ... ..             ...  \n",
       "1113    2.058333    1.0  0  United Kingdom  \n",
       "1114    2.080000    1.0  1  United Kingdom  \n",
       "1115    2.080000    1.0  0  United Kingdom  \n",
       "1116    2.036667    1.0  1  United Kingdom  \n",
       "1117    2.067000    1.0  7  United Kingdom  \n",
       "\n",
       "[1118 rows x 14 columns]>"
      ]
     },
     "execution_count": 80,
     "metadata": {},
     "output_type": "execute_result"
    }
   ],
   "source": [
    "clustersFeaturesData.info"
   ]
  },
  {
   "cell_type": "code",
   "execution_count": 81,
   "metadata": {},
   "outputs": [],
   "source": [
    "clustersFeaturesData.columns = ['Quantity1', 'NumTransactions1', 'UnitPrice1', 'Prod1', 'Quantity2', 'NumTransactions2', 'UnitPrice2', 'Prod2', 'Quantity3', 'NumTransactions3', 'UnitPrice3', 'Prod3', 'Cluster', 'Country']"
   ]
  },
  {
   "cell_type": "code",
   "execution_count": 83,
   "metadata": {},
   "outputs": [
    {
     "data": {
      "text/plain": [
       "Cluster\n",
       "0    16\n",
       "1    12\n",
       "2    11\n",
       "3     1\n",
       "4     1\n",
       "5     2\n",
       "6     1\n",
       "7     7\n",
       "Name: Country, dtype: int64"
      ]
     },
     "execution_count": 83,
     "metadata": {},
     "output_type": "execute_result"
    }
   ],
   "source": [
    "clustersFeaturesData.groupby(['Cluster']).Country.nunique()"
   ]
  },
  {
   "cell_type": "code",
   "execution_count": 87,
   "metadata": {},
   "outputs": [
    {
     "data": {
      "text/plain": [
       "Text(0, 0.5, 'Number of Countries')"
      ]
     },
     "execution_count": 87,
     "metadata": {},
     "output_type": "execute_result"
    },
    {
     "data": {
      "image/png": "[encoded data removed]",
      "text/plain": [
       "<Figure size 432x288 with 1 Axes>"
      ]
     },
     "metadata": {
      "needs_background": "light"
     },
     "output_type": "display_data"
    }
   ],
   "source": [
    "plt.bar([0, 1, 2, 3, 4, 5, 6, 7], clustersFeaturesData.groupby(['Cluster']).Country.nunique())\n",
    "\n",
    "plt.xlabel('cluster')\n",
    "plt.ylabel('Number of Countries')"
   ]
  },
  {
   "cell_type": "markdown",
   "metadata": {},
   "source": [
    "So we can see that clusters 0, 1, 2, and 7 have customers from many countries, and the other clusters are made up of customers from 2 or less countries. Which countries, though?"
   ]
  },
  {
   "cell_type": "code",
   "execution_count": 88,
   "metadata": {},
   "outputs": [
    {
     "data": {
      "text/html": [
       "<div>\n",
       "<style scoped>\n",
       "    .dataframe tbody tr th:only-of-type {\n",
       "        vertical-align: middle;\n",
       "    }\n",
       "\n",
       "    .dataframe tbody tr th {\n",
       "        vertical-align: top;\n",
       "    }\n",
       "\n",
       "    .dataframe thead th {\n",
       "        text-align: right;\n",
       "    }\n",
       "</style>\n",
       "<table border=\"1\" class=\"dataframe\">\n",
       "  <thead>\n",
       "    <tr style=\"text-align: right;\">\n",
       "      <th></th>\n",
       "      <th>Quantity1</th>\n",
       "      <th>NumTransactions1</th>\n",
       "      <th>UnitPrice1</th>\n",
       "      <th>Prod1</th>\n",
       "      <th>Quantity2</th>\n",
       "      <th>NumTransactions2</th>\n",
       "      <th>UnitPrice2</th>\n",
       "      <th>Prod2</th>\n",
       "      <th>Quantity3</th>\n",
       "      <th>NumTransactions3</th>\n",
       "      <th>UnitPrice3</th>\n",
       "      <th>Prod3</th>\n",
       "      <th>Cluster</th>\n",
       "      <th>Country</th>\n",
       "    </tr>\n",
       "  </thead>\n",
       "  <tbody>\n",
       "    <tr>\n",
       "      <th>0</th>\n",
       "      <td>0.0</td>\n",
       "      <td>0.0</td>\n",
       "      <td>0.8414</td>\n",
       "      <td>0.0</td>\n",
       "      <td>0.0</td>\n",
       "      <td>0.0</td>\n",
       "      <td>0.287131</td>\n",
       "      <td>0.0</td>\n",
       "      <td>10.0</td>\n",
       "      <td>1.0</td>\n",
       "      <td>2.080000</td>\n",
       "      <td>1.0</td>\n",
       "      <td>0</td>\n",
       "      <td>Cyprus</td>\n",
       "    </tr>\n",
       "    <tr>\n",
       "      <th>1</th>\n",
       "      <td>36.0</td>\n",
       "      <td>1.0</td>\n",
       "      <td>0.8500</td>\n",
       "      <td>1.0</td>\n",
       "      <td>0.0</td>\n",
       "      <td>0.0</td>\n",
       "      <td>0.287131</td>\n",
       "      <td>0.0</td>\n",
       "      <td>20.0</td>\n",
       "      <td>2.0</td>\n",
       "      <td>2.080000</td>\n",
       "      <td>1.0</td>\n",
       "      <td>7</td>\n",
       "      <td>Belgium</td>\n",
       "    </tr>\n",
       "    <tr>\n",
       "      <th>2</th>\n",
       "      <td>0.0</td>\n",
       "      <td>0.0</td>\n",
       "      <td>0.8414</td>\n",
       "      <td>0.0</td>\n",
       "      <td>0.0</td>\n",
       "      <td>0.0</td>\n",
       "      <td>0.287131</td>\n",
       "      <td>0.0</td>\n",
       "      <td>10.0</td>\n",
       "      <td>1.0</td>\n",
       "      <td>1.950000</td>\n",
       "      <td>1.0</td>\n",
       "      <td>0</td>\n",
       "      <td>Austria</td>\n",
       "    </tr>\n",
       "    <tr>\n",
       "      <th>3</th>\n",
       "      <td>12.0</td>\n",
       "      <td>1.0</td>\n",
       "      <td>0.8500</td>\n",
       "      <td>1.0</td>\n",
       "      <td>0.0</td>\n",
       "      <td>0.0</td>\n",
       "      <td>0.287131</td>\n",
       "      <td>0.0</td>\n",
       "      <td>0.0</td>\n",
       "      <td>0.0</td>\n",
       "      <td>2.030612</td>\n",
       "      <td>0.0</td>\n",
       "      <td>2</td>\n",
       "      <td>Switzerland</td>\n",
       "    </tr>\n",
       "    <tr>\n",
       "      <th>4</th>\n",
       "      <td>0.0</td>\n",
       "      <td>0.0</td>\n",
       "      <td>0.8414</td>\n",
       "      <td>0.0</td>\n",
       "      <td>0.0</td>\n",
       "      <td>0.0</td>\n",
       "      <td>0.287131</td>\n",
       "      <td>0.0</td>\n",
       "      <td>10.0</td>\n",
       "      <td>1.0</td>\n",
       "      <td>2.080000</td>\n",
       "      <td>1.0</td>\n",
       "      <td>0</td>\n",
       "      <td>Belgium</td>\n",
       "    </tr>\n",
       "    <tr>\n",
       "      <th>...</th>\n",
       "      <td>...</td>\n",
       "      <td>...</td>\n",
       "      <td>...</td>\n",
       "      <td>...</td>\n",
       "      <td>...</td>\n",
       "      <td>...</td>\n",
       "      <td>...</td>\n",
       "      <td>...</td>\n",
       "      <td>...</td>\n",
       "      <td>...</td>\n",
       "      <td>...</td>\n",
       "      <td>...</td>\n",
       "      <td>...</td>\n",
       "      <td>...</td>\n",
       "    </tr>\n",
       "    <tr>\n",
       "      <th>1113</th>\n",
       "      <td>0.0</td>\n",
       "      <td>0.0</td>\n",
       "      <td>0.8414</td>\n",
       "      <td>0.0</td>\n",
       "      <td>0.0</td>\n",
       "      <td>0.0</td>\n",
       "      <td>0.287131</td>\n",
       "      <td>0.0</td>\n",
       "      <td>90.0</td>\n",
       "      <td>6.0</td>\n",
       "      <td>2.058333</td>\n",
       "      <td>1.0</td>\n",
       "      <td>0</td>\n",
       "      <td>United Kingdom</td>\n",
       "    </tr>\n",
       "    <tr>\n",
       "      <th>1114</th>\n",
       "      <td>0.0</td>\n",
       "      <td>0.0</td>\n",
       "      <td>0.8414</td>\n",
       "      <td>0.0</td>\n",
       "      <td>48.0</td>\n",
       "      <td>1.0</td>\n",
       "      <td>0.290000</td>\n",
       "      <td>1.0</td>\n",
       "      <td>10.0</td>\n",
       "      <td>1.0</td>\n",
       "      <td>2.080000</td>\n",
       "      <td>1.0</td>\n",
       "      <td>1</td>\n",
       "      <td>United Kingdom</td>\n",
       "    </tr>\n",
       "    <tr>\n",
       "      <th>1115</th>\n",
       "      <td>0.0</td>\n",
       "      <td>0.0</td>\n",
       "      <td>0.8414</td>\n",
       "      <td>0.0</td>\n",
       "      <td>0.0</td>\n",
       "      <td>0.0</td>\n",
       "      <td>0.287131</td>\n",
       "      <td>0.0</td>\n",
       "      <td>20.0</td>\n",
       "      <td>2.0</td>\n",
       "      <td>2.080000</td>\n",
       "      <td>1.0</td>\n",
       "      <td>0</td>\n",
       "      <td>United Kingdom</td>\n",
       "    </tr>\n",
       "    <tr>\n",
       "      <th>1116</th>\n",
       "      <td>0.0</td>\n",
       "      <td>0.0</td>\n",
       "      <td>0.8414</td>\n",
       "      <td>0.0</td>\n",
       "      <td>48.0</td>\n",
       "      <td>1.0</td>\n",
       "      <td>0.290000</td>\n",
       "      <td>1.0</td>\n",
       "      <td>30.0</td>\n",
       "      <td>3.0</td>\n",
       "      <td>2.036667</td>\n",
       "      <td>1.0</td>\n",
       "      <td>1</td>\n",
       "      <td>United Kingdom</td>\n",
       "    </tr>\n",
       "    <tr>\n",
       "      <th>1117</th>\n",
       "      <td>7.0</td>\n",
       "      <td>2.0</td>\n",
       "      <td>0.8500</td>\n",
       "      <td>1.0</td>\n",
       "      <td>0.0</td>\n",
       "      <td>0.0</td>\n",
       "      <td>0.287131</td>\n",
       "      <td>0.0</td>\n",
       "      <td>17.0</td>\n",
       "      <td>10.0</td>\n",
       "      <td>2.067000</td>\n",
       "      <td>1.0</td>\n",
       "      <td>7</td>\n",
       "      <td>United Kingdom</td>\n",
       "    </tr>\n",
       "  </tbody>\n",
       "</table>\n",
       "<p>1118 rows × 14 columns</p>\n",
       "</div>"
      ],
      "text/plain": [
       "      Quantity1  NumTransactions1  UnitPrice1  Prod1  Quantity2  \\\n",
       "0           0.0               0.0      0.8414    0.0        0.0   \n",
       "1          36.0               1.0      0.8500    1.0        0.0   \n",
       "2           0.0               0.0      0.8414    0.0        0.0   \n",
       "3          12.0               1.0      0.8500    1.0        0.0   \n",
       "4           0.0               0.0      0.8414    0.0        0.0   \n",
       "...         ...               ...         ...    ...        ...   \n",
       "1113        0.0               0.0      0.8414    0.0        0.0   \n",
       "1114        0.0               0.0      0.8414    0.0       48.0   \n",
       "1115        0.0               0.0      0.8414    0.0        0.0   \n",
       "1116        0.0               0.0      0.8414    0.0       48.0   \n",
       "1117        7.0               2.0      0.8500    1.0        0.0   \n",
       "\n",
       "      NumTransactions2  UnitPrice2  Prod2  Quantity3  NumTransactions3  \\\n",
       "0                  0.0    0.287131    0.0       10.0               1.0   \n",
       "1                  0.0    0.287131    0.0       20.0               2.0   \n",
       "2                  0.0    0.287131    0.0       10.0               1.0   \n",
       "3                  0.0    0.287131    0.0        0.0               0.0   \n",
       "4                  0.0    0.287131    0.0       10.0               1.0   \n",
       "...                ...         ...    ...        ...               ...   \n",
       "1113               0.0    0.287131    0.0       90.0               6.0   \n",
       "1114               1.0    0.290000    1.0       10.0               1.0   \n",
       "1115               0.0    0.287131    0.0       20.0               2.0   \n",
       "1116               1.0    0.290000    1.0       30.0               3.0   \n",
       "1117               0.0    0.287131    0.0       17.0              10.0   \n",
       "\n",
       "      UnitPrice3  Prod3  Cluster         Country  \n",
       "0       2.080000    1.0        0          Cyprus  \n",
       "1       2.080000    1.0        7         Belgium  \n",
       "2       1.950000    1.0        0         Austria  \n",
       "3       2.030612    0.0        2     Switzerland  \n",
       "4       2.080000    1.0        0         Belgium  \n",
       "...          ...    ...      ...             ...  \n",
       "1113    2.058333    1.0        0  United Kingdom  \n",
       "1114    2.080000    1.0        1  United Kingdom  \n",
       "1115    2.080000    1.0        0  United Kingdom  \n",
       "1116    2.036667    1.0        1  United Kingdom  \n",
       "1117    2.067000    1.0        7  United Kingdom  \n",
       "\n",
       "[1118 rows x 14 columns]"
      ]
     },
     "execution_count": 88,
     "metadata": {},
     "output_type": "execute_result"
    }
   ],
   "source": [
    "clustersFeaturesData"
   ]
  },
  {
   "cell_type": "code",
   "execution_count": 89,
   "metadata": {},
   "outputs": [
    {
     "data": {
      "text/plain": [
       "Country\n",
       "Australia                               [0]\n",
       "Austria                                 [0]\n",
       "Belgium                              [7, 0]\n",
       "Canada                                  [1]\n",
       "Channel Islands                      [0, 2]\n",
       "Cyprus                               [0, 2]\n",
       "Denmark                                 [1]\n",
       "EIRE                                 [1, 7]\n",
       "Finland                                 [0]\n",
       "France                         [0, 1, 7, 2]\n",
       "Germany                        [1, 0, 7, 2]\n",
       "Israel                                  [2]\n",
       "Italy                                [7, 2]\n",
       "Japan                                   [1]\n",
       "Netherlands                          [2, 5]\n",
       "Norway                            [1, 2, 0]\n",
       "Portugal                             [0, 1]\n",
       "RSA                                     [0]\n",
       "Singapore                               [7]\n",
       "Spain                             [0, 1, 2]\n",
       "Sweden                               [0, 1]\n",
       "Switzerland                       [2, 0, 1]\n",
       "USA                                     [0]\n",
       "United Kingdom     [0, 7, 2, 1, 6, 4, 5, 3]\n",
       "Name: Cluster, dtype: object"
      ]
     },
     "execution_count": 89,
     "metadata": {},
     "output_type": "execute_result"
    }
   ],
   "source": [
    "clustersFeaturesData.groupby(['Country']).Cluster.unique()"
   ]
  },
  {
   "cell_type": "markdown",
   "metadata": {},
   "source": [
    "We see that customers from the UK are in all clusters. Customers making up clusters 3, 4, and 6 are exclusively UK. Cluster 5 is made up of customers from UK and Netherlands. Clusters 0-2 have customers all over the world (including in UK)."
   ]
  },
  {
   "cell_type": "code",
   "execution_count": 123,
   "metadata": {},
   "outputs": [
    {
     "data": {
      "text/plain": [
       "Cluster  Country        \n",
       "0        Australia              0.000000\n",
       "         Austria                0.000000\n",
       "         Belgium                0.000000\n",
       "         Channel Islands        0.000000\n",
       "         Cyprus                 0.000000\n",
       "         Finland                0.000000\n",
       "         France                 0.000000\n",
       "         Germany                0.000000\n",
       "         Norway                 0.000000\n",
       "         Portugal               0.000000\n",
       "         RSA                    0.000000\n",
       "         Spain                  0.000000\n",
       "         Sweden                 0.000000\n",
       "         Switzerland            0.000000\n",
       "         USA                    0.000000\n",
       "         United Kingdom         0.000000\n",
       "1        Canada                 0.000000\n",
       "         Denmark                0.000000\n",
       "         EIRE                   0.000000\n",
       "         France                20.234875\n",
       "         Germany                0.000000\n",
       "         Japan                  0.000000\n",
       "         Norway                 0.000000\n",
       "         Portugal               0.000000\n",
       "         Spain                 60.350000\n",
       "         Sweden                 0.000000\n",
       "         Switzerland            0.000000\n",
       "         United Kingdom      2109.785466\n",
       "2        Channel Islands       51.000000\n",
       "         Cyprus                10.200000\n",
       "         France               136.850000\n",
       "         Germany               40.800000\n",
       "         Israel                20.400000\n",
       "         Italy                116.180000\n",
       "         Netherlands           10.200000\n",
       "         Norway               342.768000\n",
       "         Spain                 77.350000\n",
       "         Switzerland           10.200000\n",
       "         United Kingdom      7073.283623\n",
       "3        United Kingdom       247.760000\n",
       "4        United Kingdom     15359.040000\n",
       "5        Netherlands            0.000000\n",
       "         United Kingdom      1557.098611\n",
       "6        United Kingdom         0.000000\n",
       "7        Belgium               30.600000\n",
       "         EIRE                1455.922500\n",
       "         France               142.800000\n",
       "         Germany               73.950000\n",
       "         Italy                 10.200000\n",
       "         Singapore            216.000000\n",
       "         United Kingdom      9166.446250\n",
       "dtype: float64"
      ]
     },
     "execution_count": 123,
     "metadata": {},
     "output_type": "execute_result"
    }
   ],
   "source": [
    "clustersFeaturesData.groupby(['Cluster', 'Country']).UnitPrice1.mean() * clustersFeaturesData.groupby(['Cluster', 'Country']).Quantity1.sum()"
   ]
  },
  {
   "cell_type": "code",
   "execution_count": 122,
   "metadata": {},
   "outputs": [
    {
     "data": {
      "text/plain": [
       "Cluster\n",
       "0        0.000000\n",
       "1     2189.914659\n",
       "2     7925.846848\n",
       "3      247.760000\n",
       "4    15359.040000\n",
       "5     1560.351666\n",
       "6        0.000000\n",
       "7    11163.021709\n",
       "dtype: float64"
      ]
     },
     "execution_count": 122,
     "metadata": {},
     "output_type": "execute_result"
    }
   ],
   "source": [
    "clustersFeaturesData.groupby(['Cluster']).UnitPrice1.mean() * clustersFeaturesData.groupby(['Cluster']).Quantity1.sum()"
   ]
  },
  {
   "cell_type": "code",
   "execution_count": 129,
   "metadata": {},
   "outputs": [
    {
     "name": "stdout",
     "output_type": "stream",
     "text": [
      "cluster 0: Nobody buys product 1\n",
      "cluster 1: 0.9634686515365999\n",
      "cluster 2: 0.8924398798859421\n",
      "cluster 3: 0.9998385794995963\n",
      "cluster 4: 1.0\n",
      "cluster 5: 0.9978530457910085\n",
      "cluster 6: Nobody buys product 1\n",
      "cluster 7: 0.8211412702678491\n"
     ]
    }
   ],
   "source": [
    "print('cluster 0: Nobody buys product 1')\n",
    "print('cluster 1:', 2109.9/2189.9)\n",
    "print('cluster 2:', 7073.3/7925.8)\n",
    "print('cluster 3:', 247.76/247.8)\n",
    "print('cluster 4:', 15359.0/15359.0)\n",
    "print('cluster 5:', 1557.0/1560.35)\n",
    "print('cluster 6: Nobody buys product 1')\n",
    "print('cluster 7:', 9166.4/11163.0)"
   ]
  },
  {
   "cell_type": "markdown",
   "metadata": {},
   "source": [
    "In terms of revenue, the UK customer base is a very significant in all clusters for product 1 EXCEPT clusters 0 and 6 which do not buy it. I do not show it here but the story is similar for the other two products. The UK is a significant market for this business even in the clusters represented by more countries.\n",
    "\n",
    "So which cluster is generating the most revenue? Is it the ones paying greater unit prices? More transactions? More items?"
   ]
  },
  {
   "cell_type": "code",
   "execution_count": 136,
   "metadata": {},
   "outputs": [
    {
     "data": {
      "text/plain": [
       "Text(0, 0.5, 'Revenue')"
      ]
     },
     "execution_count": 136,
     "metadata": {},
     "output_type": "execute_result"
    },
    {
     "data": {
      "image/png": "[encoded data removed]",
      "text/plain": [
       "<Figure size 432x288 with 1 Axes>"
      ]
     },
     "metadata": {
      "needs_background": "light"
     },
     "output_type": "display_data"
    }
   ],
   "source": [
    "w = 0.2\n",
    "plt.bar([0, 1, 2, 3, 4, 5, 6, 7], clustersFeaturesData.groupby(['Cluster']).UnitPrice1.mean() * clustersFeaturesData.groupby(['Cluster']).Quantity1.sum(), width = w)\n",
    "plt.bar([0+w, 1+w, 2+w, 3+w, 4+w, 5+w, 6+w, 7+w], clustersFeaturesData.groupby(['Cluster']).UnitPrice2.mean()* clustersFeaturesData.groupby(['Cluster']).Quantity1.sum(), width = w)\n",
    "plt.bar([0+(2*w), 1+(2*w), 2+(2*w), 3+(2*w), 4+(2*w), 5+(2*w), 6+(2*w), 7+(2*w)], clustersFeaturesData.groupby(['Cluster']).UnitPrice3.mean()* clustersFeaturesData.groupby(['Cluster']).Quantity1.sum(), width = w)\n",
    "plt.xlabel('cluster')\n",
    "plt.ylabel('Revenue')"
   ]
  },
  {
   "cell_type": "markdown",
   "metadata": {},
   "source": [
    "So clusters 2, 4, and 7 generate the most revenue for all three products. Do these clusters place more orders? Order more products? Pay more per item? Let's see."
   ]
  },
  {
   "cell_type": "code",
   "execution_count": 137,
   "metadata": {},
   "outputs": [
    {
     "data": {
      "text/plain": [
       "Text(0, 0.5, 'Mean Unit Price')"
      ]
     },
     "execution_count": 137,
     "metadata": {},
     "output_type": "execute_result"
    },
    {
     "data": {
      "image/png": "[encoded data removed]",
      "text/plain": [
       "<Figure size 432x288 with 1 Axes>"
      ]
     },
     "metadata": {
      "needs_background": "light"
     },
     "output_type": "display_data"
    }
   ],
   "source": [
    "w = 0.2\n",
    "plt.bar([0, 1, 2, 3, 4, 5, 6, 7], clustersFeaturesData.groupby(['Cluster']).UnitPrice1.mean(), width = w)\n",
    "plt.bar([0+w, 1+w, 2+w, 3+w, 4+w, 5+w, 6+w, 7+w], clustersFeaturesData.groupby(['Cluster']).UnitPrice2.mean(), width = w)\n",
    "plt.bar([0+(2*w), 1+(2*w), 2+(2*w), 3+(2*w), 4+(2*w), 5+(2*w), 6+(2*w), 7+(2*w)], clustersFeaturesData.groupby(['Cluster']).UnitPrice3.mean(), width = w)\n",
    "plt.xlabel('cluster')\n",
    "plt.ylabel('Mean Unit Price')"
   ]
  },
  {
   "cell_type": "code",
   "execution_count": 140,
   "metadata": {},
   "outputs": [
    {
     "data": {
      "text/plain": [
       "Text(0, 0.5, 'Number of Transactions')"
      ]
     },
     "execution_count": 140,
     "metadata": {},
     "output_type": "execute_result"
    },
    {
     "data": {
      "image/png": "[encoded data removed]",
      "text/plain": [
       "<Figure size 432x288 with 1 Axes>"
      ]
     },
     "metadata": {
      "needs_background": "light"
     },
     "output_type": "display_data"
    }
   ],
   "source": [
    "w = 0.2\n",
    "plt.bar([0, 1, 2, 3, 4, 5, 6, 7], clustersFeaturesData.groupby(['Cluster']).NumTransactions1.sum(), width = w)\n",
    "plt.bar([0+w, 1+w, 2+w, 3+w, 4+w, 5+w, 6+w, 7+w], clustersFeaturesData.groupby(['Cluster']).NumTransactions2.sum(), width = w)\n",
    "plt.bar([0+(2*w), 1+(2*w), 2+(2*w), 3+(2*w), 4+(2*w), 5+(2*w), 6+(2*w), 7+(2*w)], clustersFeaturesData.groupby(['Cluster']).NumTransactions3.sum(), width = w)\n",
    "plt.xlabel('cluster')\n",
    "plt.ylabel('Number of Transactions')"
   ]
  },
  {
   "cell_type": "code",
   "execution_count": 142,
   "metadata": {},
   "outputs": [
    {
     "data": {
      "text/plain": [
       "Text(0, 0.5, '# Products sold')"
      ]
     },
     "execution_count": 142,
     "metadata": {},
     "output_type": "execute_result"
    },
    {
     "data": {
      "image/png": "[encoded data removed]",
      "text/plain": [
       "<Figure size 432x288 with 1 Axes>"
      ]
     },
     "metadata": {
      "needs_background": "light"
     },
     "output_type": "display_data"
    }
   ],
   "source": [
    "plt.bar([0, 1, 2, 3, 4, 5, 6, 7], clustersFeaturesData.groupby(['Cluster']).Quantity1.sum(), width = w)\n",
    "plt.bar([0+w, 1+w, 2+w, 3+w, 4+w, 5+w, 6+w, 7+w], clustersFeaturesData.groupby(['Cluster']).Quantity2.sum(), width = w)\n",
    "plt.bar([0+(2*w), 1+(2*w), 2+(2*w), 3+(2*w), 4+(2*w), 5+(2*w), 6+(2*w), 7+(2*w)], clustersFeaturesData.groupby(['Cluster']).Quantity3.sum(), width = w)\n",
    "plt.xlabel('cluster')\n",
    "plt.ylabel('# Products sold')"
   ]
  },
  {
   "cell_type": "code",
   "execution_count": 139,
   "metadata": {},
   "outputs": [
    {
     "data": {
      "text/plain": [
       "Text(0, 0.5, 'Products / transaction')"
      ]
     },
     "execution_count": 139,
     "metadata": {},
     "output_type": "execute_result"
    },
    {
     "data": {
      "image/png": "[encoded data removed]",
      "text/plain": [
       "<Figure size 432x288 with 1 Axes>"
      ]
     },
     "metadata": {
      "needs_background": "light"
     },
     "output_type": "display_data"
    }
   ],
   "source": [
    "plt.bar([0, 1, 2, 3, 4, 5, 6, 7], clustersFeaturesData.groupby(['Cluster']).Quantity1.sum() / clustersFeaturesData.groupby(['Cluster']).NumTransactions1.sum(), width = w)\n",
    "plt.bar([0+w, 1+w, 2+w, 3+w, 4+w, 5+w, 6+w, 7+w], clustersFeaturesData.groupby(['Cluster']).Quantity2.sum() / clustersFeaturesData.groupby(['Cluster']).NumTransactions2.sum(), width = w)\n",
    "plt.bar([0+(2*w), 1+(2*w), 2+(2*w), 3+(2*w), 4+(2*w), 5+(2*w), 6+(2*w), 7+(2*w)], clustersFeaturesData.groupby(['Cluster']).Quantity3.sum() / clustersFeaturesData.groupby(['Cluster']).NumTransactions3.sum(), width = w)\n",
    "plt.xlabel('cluster')\n",
    "plt.ylabel('Products / transaction')"
   ]
  },
  {
   "cell_type": "markdown",
   "metadata": {},
   "source": [
    "It looks like clusters 2, 4, and 7 pay the mean unit price (except slightly lower for cluster 4 product 1). Clusters 2 and 7 had many transactions. In contrast, cluster 4 bought many products for each transaction (specifically for product 1). All three clusters mainly purchased product 1.\n",
    "\n",
    "Other clusters sold higher quantities of product 2, however, this is a cheaper product (lower mean unit price) and therefore a smaller fraction of the total revenue.\n",
    "\n",
    "So what countries (other than UK) generate the most revenue? "
   ]
  },
  {
   "cell_type": "code",
   "execution_count": 143,
   "metadata": {},
   "outputs": [
    {
     "data": {
      "text/plain": [
       "Index(['InvoiceNo', 'StockCode', 'Description', 'Quantity', 'InvoiceDate',\n",
       "       'UnitPrice', 'CustomerID', 'Country'],\n",
       "      dtype='object')"
      ]
     },
     "execution_count": 143,
     "metadata": {},
     "output_type": "execute_result"
    }
   ],
   "source": [
    "data = pd.read_csv('data.csv', encoding = 'unicode_escape')\n",
    "data.columns"
   ]
  },
  {
   "cell_type": "code",
   "execution_count": 144,
   "metadata": {},
   "outputs": [],
   "source": [
    "data.drop(['Description', 'InvoiceDate'], inplace = True, axis = 1)"
   ]
  },
  {
   "cell_type": "code",
   "execution_count": 145,
   "metadata": {},
   "outputs": [
    {
     "data": {
      "text/html": [
       "<div>\n",
       "<style scoped>\n",
       "    .dataframe tbody tr th:only-of-type {\n",
       "        vertical-align: middle;\n",
       "    }\n",
       "\n",
       "    .dataframe tbody tr th {\n",
       "        vertical-align: top;\n",
       "    }\n",
       "\n",
       "    .dataframe thead th {\n",
       "        text-align: right;\n",
       "    }\n",
       "</style>\n",
       "<table border=\"1\" class=\"dataframe\">\n",
       "  <thead>\n",
       "    <tr style=\"text-align: right;\">\n",
       "      <th></th>\n",
       "      <th>InvoiceNo</th>\n",
       "      <th>StockCode</th>\n",
       "      <th>Quantity</th>\n",
       "      <th>UnitPrice</th>\n",
       "      <th>CustomerID</th>\n",
       "      <th>Country</th>\n",
       "    </tr>\n",
       "  </thead>\n",
       "  <tbody>\n",
       "    <tr>\n",
       "      <th>0</th>\n",
       "      <td>536365</td>\n",
       "      <td>85123A</td>\n",
       "      <td>6</td>\n",
       "      <td>2.55</td>\n",
       "      <td>17850.0</td>\n",
       "      <td>United Kingdom</td>\n",
       "    </tr>\n",
       "    <tr>\n",
       "      <th>1</th>\n",
       "      <td>536365</td>\n",
       "      <td>71053</td>\n",
       "      <td>6</td>\n",
       "      <td>3.39</td>\n",
       "      <td>17850.0</td>\n",
       "      <td>United Kingdom</td>\n",
       "    </tr>\n",
       "    <tr>\n",
       "      <th>2</th>\n",
       "      <td>536365</td>\n",
       "      <td>84406B</td>\n",
       "      <td>8</td>\n",
       "      <td>2.75</td>\n",
       "      <td>17850.0</td>\n",
       "      <td>United Kingdom</td>\n",
       "    </tr>\n",
       "    <tr>\n",
       "      <th>3</th>\n",
       "      <td>536365</td>\n",
       "      <td>84029G</td>\n",
       "      <td>6</td>\n",
       "      <td>3.39</td>\n",
       "      <td>17850.0</td>\n",
       "      <td>United Kingdom</td>\n",
       "    </tr>\n",
       "    <tr>\n",
       "      <th>4</th>\n",
       "      <td>536365</td>\n",
       "      <td>84029E</td>\n",
       "      <td>6</td>\n",
       "      <td>3.39</td>\n",
       "      <td>17850.0</td>\n",
       "      <td>United Kingdom</td>\n",
       "    </tr>\n",
       "    <tr>\n",
       "      <th>...</th>\n",
       "      <td>...</td>\n",
       "      <td>...</td>\n",
       "      <td>...</td>\n",
       "      <td>...</td>\n",
       "      <td>...</td>\n",
       "      <td>...</td>\n",
       "    </tr>\n",
       "    <tr>\n",
       "      <th>541904</th>\n",
       "      <td>581587</td>\n",
       "      <td>22613</td>\n",
       "      <td>12</td>\n",
       "      <td>0.85</td>\n",
       "      <td>12680.0</td>\n",
       "      <td>France</td>\n",
       "    </tr>\n",
       "    <tr>\n",
       "      <th>541905</th>\n",
       "      <td>581587</td>\n",
       "      <td>22899</td>\n",
       "      <td>6</td>\n",
       "      <td>2.10</td>\n",
       "      <td>12680.0</td>\n",
       "      <td>France</td>\n",
       "    </tr>\n",
       "    <tr>\n",
       "      <th>541906</th>\n",
       "      <td>581587</td>\n",
       "      <td>23254</td>\n",
       "      <td>4</td>\n",
       "      <td>4.15</td>\n",
       "      <td>12680.0</td>\n",
       "      <td>France</td>\n",
       "    </tr>\n",
       "    <tr>\n",
       "      <th>541907</th>\n",
       "      <td>581587</td>\n",
       "      <td>23255</td>\n",
       "      <td>4</td>\n",
       "      <td>4.15</td>\n",
       "      <td>12680.0</td>\n",
       "      <td>France</td>\n",
       "    </tr>\n",
       "    <tr>\n",
       "      <th>541908</th>\n",
       "      <td>581587</td>\n",
       "      <td>22138</td>\n",
       "      <td>3</td>\n",
       "      <td>4.95</td>\n",
       "      <td>12680.0</td>\n",
       "      <td>France</td>\n",
       "    </tr>\n",
       "  </tbody>\n",
       "</table>\n",
       "<p>541909 rows × 6 columns</p>\n",
       "</div>"
      ],
      "text/plain": [
       "       InvoiceNo StockCode  Quantity  UnitPrice  CustomerID         Country\n",
       "0         536365    85123A         6       2.55     17850.0  United Kingdom\n",
       "1         536365     71053         6       3.39     17850.0  United Kingdom\n",
       "2         536365    84406B         8       2.75     17850.0  United Kingdom\n",
       "3         536365    84029G         6       3.39     17850.0  United Kingdom\n",
       "4         536365    84029E         6       3.39     17850.0  United Kingdom\n",
       "...          ...       ...       ...        ...         ...             ...\n",
       "541904    581587     22613        12       0.85     12680.0          France\n",
       "541905    581587     22899         6       2.10     12680.0          France\n",
       "541906    581587     23254         4       4.15     12680.0          France\n",
       "541907    581587     23255         4       4.15     12680.0          France\n",
       "541908    581587     22138         3       4.95     12680.0          France\n",
       "\n",
       "[541909 rows x 6 columns]"
      ]
     },
     "execution_count": 145,
     "metadata": {},
     "output_type": "execute_result"
    }
   ],
   "source": [
    "data"
   ]
  },
  {
   "cell_type": "code",
   "execution_count": 146,
   "metadata": {},
   "outputs": [],
   "source": [
    "data['transactionTotal'] = data.loc[:, 'Quantity'] * data.loc[:, 'UnitPrice']\n",
    "revenueDF = data.groupby(['Country']).transactionTotal.sum()"
   ]
  },
  {
   "cell_type": "code",
   "execution_count": 147,
   "metadata": {},
   "outputs": [
    {
     "data": {
      "text/plain": [
       "<BarContainer object of 38 artists>"
      ]
     },
     "execution_count": 147,
     "metadata": {},
     "output_type": "execute_result"
    },
    {
     "data": {
      "image/png": "[encoded data removed]",
      "text/plain": [
       "<Figure size 432x288 with 1 Axes>"
      ]
     },
     "metadata": {
      "needs_background": "light"
     },
     "output_type": "display_data"
    }
   ],
   "source": [
    "plt.bar(revenueDF.index, revenueDF)"
   ]
  },
  {
   "cell_type": "code",
   "execution_count": 148,
   "metadata": {},
   "outputs": [
    {
     "data": {
      "text/plain": [
       "Country\n",
       "United Kingdom          8.187806e+06\n",
       "Netherlands             2.846615e+05\n",
       "EIRE                    2.632768e+05\n",
       "Germany                 2.216982e+05\n",
       "France                  1.974039e+05\n",
       "Australia               1.370773e+05\n",
       "Switzerland             5.638535e+04\n",
       "Spain                   5.477458e+04\n",
       "Belgium                 4.091096e+04\n",
       "Sweden                  3.659591e+04\n",
       "Japan                   3.534062e+04\n",
       "Norway                  3.516346e+04\n",
       "Portugal                2.936702e+04\n",
       "Finland                 2.232674e+04\n",
       "Channel Islands         2.008629e+04\n",
       "Denmark                 1.876814e+04\n",
       "Italy                   1.689051e+04\n",
       "Cyprus                  1.294629e+04\n",
       "Austria                 1.015432e+04\n",
       "Hong Kong               1.011704e+04\n",
       "Singapore               9.120390e+03\n",
       "Israel                  7.907820e+03\n",
       "Poland                  7.213140e+03\n",
       "Unspecified             4.749790e+03\n",
       "Greece                  4.710520e+03\n",
       "Iceland                 4.310000e+03\n",
       "Canada                  3.666380e+03\n",
       "Malta                   2.505470e+03\n",
       "United Arab Emirates    1.902280e+03\n",
       "USA                     1.730920e+03\n",
       "Lebanon                 1.693880e+03\n",
       "Lithuania               1.661060e+03\n",
       "European Community      1.291750e+03\n",
       "Brazil                  1.143600e+03\n",
       "RSA                     1.002310e+03\n",
       "Czech Republic          7.077200e+02\n",
       "Bahrain                 5.484000e+02\n",
       "Saudi Arabia            1.311700e+02\n",
       "Name: transactionTotal, dtype: float64"
      ]
     },
     "execution_count": 148,
     "metadata": {},
     "output_type": "execute_result"
    }
   ],
   "source": [
    "revenueDF.sort_values(ascending = False)"
   ]
  },
  {
   "cell_type": "markdown",
   "metadata": {},
   "source": [
    "The UK, Netherlands, Ireland, Germany, France, and Australia generate the most revenue (in desceding order)."
   ]
  },
  {
   "cell_type": "code",
   "execution_count": 149,
   "metadata": {},
   "outputs": [],
   "source": [
    "QuantityDF = data.groupby(['Country']).Quantity.sum()"
   ]
  },
  {
   "cell_type": "code",
   "execution_count": 150,
   "metadata": {},
   "outputs": [
    {
     "data": {
      "text/plain": [
       "Country\n",
       "United Kingdom          4263829\n",
       "Netherlands              200128\n",
       "EIRE                     142637\n",
       "Germany                  117448\n",
       "France                   110480\n",
       "Australia                 83653\n",
       "Sweden                    35637\n",
       "Switzerland               30325\n",
       "Spain                     26824\n",
       "Japan                     25218\n",
       "Belgium                   23152\n",
       "Norway                    19247\n",
       "Portugal                  16180\n",
       "Finland                   10666\n",
       "Channel Islands            9479\n",
       "Denmark                    8188\n",
       "Italy                      7999\n",
       "Cyprus                     6317\n",
       "Singapore                  5234\n",
       "Austria                    4827\n",
       "Hong Kong                  4769\n",
       "Israel                     4353\n",
       "Poland                     3653\n",
       "Unspecified                3300\n",
       "Canada                     2763\n",
       "Iceland                    2458\n",
       "Greece                     1556\n",
       "USA                        1034\n",
       "United Arab Emirates        982\n",
       "Malta                       944\n",
       "Lithuania                   652\n",
       "Czech Republic              592\n",
       "European Community          497\n",
       "Lebanon                     386\n",
       "Brazil                      356\n",
       "RSA                         352\n",
       "Bahrain                     260\n",
       "Saudi Arabia                 75\n",
       "Name: Quantity, dtype: int64"
      ]
     },
     "execution_count": 150,
     "metadata": {},
     "output_type": "execute_result"
    }
   ],
   "source": [
    "QuantityDF.sort_values(ascending = False)"
   ]
  },
  {
   "cell_type": "markdown",
   "metadata": {},
   "source": [
    "The same countries (in the exact same order) are buying the most products (in terms of number) from the company. Is the story the same for unit price?"
   ]
  },
  {
   "cell_type": "code",
   "execution_count": 151,
   "metadata": {},
   "outputs": [],
   "source": [
    "UnitPriceDF = data.groupby(['Country']).UnitPrice.mean()"
   ]
  },
  {
   "cell_type": "code",
   "execution_count": 152,
   "metadata": {},
   "outputs": [
    {
     "data": {
      "text/plain": [
       "Country\n",
       "Singapore               109.645808\n",
       "Hong Kong                42.505208\n",
       "Portugal                  8.582976\n",
       "Cyprus                    6.302363\n",
       "Canada                    6.030331\n",
       "Norway                    6.012026\n",
       "EIRE                      5.911077\n",
       "Finland                   5.448705\n",
       "Lebanon                   5.387556\n",
       "Malta                     5.244173\n",
       "France                    5.028864\n",
       "Spain                     4.987544\n",
       "Channel Islands           4.932124\n",
       "Greece                    4.885548\n",
       "Italy                     4.831121\n",
       "European Community        4.820492\n",
       "Bahrain                   4.556316\n",
       "United Kingdom            4.532422\n",
       "Brazil                    4.456250\n",
       "RSA                       4.277586\n",
       "Austria                   4.243192\n",
       "Poland                    4.170880\n",
       "Germany                   3.966930\n",
       "Sweden                    3.910887\n",
       "Belgium                   3.644335\n",
       "Israel                    3.633131\n",
       "Switzerland               3.403442\n",
       "United Arab Emirates      3.380735\n",
       "Denmark                   3.256941\n",
       "Australia                 3.220612\n",
       "Czech Republic            2.938333\n",
       "Lithuania                 2.841143\n",
       "Netherlands               2.738317\n",
       "Unspecified               2.699574\n",
       "Iceland                   2.644011\n",
       "Saudi Arabia              2.411000\n",
       "Japan                     2.276145\n",
       "USA                       2.216426\n",
       "Name: UnitPrice, dtype: float64"
      ]
     },
     "execution_count": 152,
     "metadata": {},
     "output_type": "execute_result"
    }
   ],
   "source": [
    "UnitPriceDF.sort_values(ascending = False)"
   ]
  },
  {
   "cell_type": "markdown",
   "metadata": {},
   "source": [
    "No! The countries that spend the highest unit prices are Singapore, Hong Kong, Portugal, Cyprus, Canada, and Norway. \n",
    "\n",
    "There could be two reasons for this. One, those countries could be paying more for the same products. Or, they could just be purchasing the more expensive products."
   ]
  },
  {
   "cell_type": "markdown",
   "metadata": {},
   "source": [
    "## Summary <a class=\"anchor\" id=\"seventh-bullet\"></a>"
   ]
  },
  {
   "cell_type": "markdown",
   "metadata": {},
   "source": [
    "We have used a K-means clustering algorithm to do a market segmentation analysis on an online shop selling gifts. We took the three most popular (most sold) gifts and segmented customers into 8 groups depending on what product they bought, the quantity sold of that product, the unit price of the product, the number of transactions they made for each product during the 9-month period of interest.\n",
    "\n",
    "We found that UK customers made up a significant part of every segment. International customers tended to be in clusters 0, 1, 2, and 7 depending on which products they bought. Clusters 2, 4, and 7 generated the most revenue and each of these mainly bought product 1. Cluster 4 is made up of only 3 customers. They are important customers for product 1.\n",
    "\n",
    "The UK generates the most revenue by far and purchases the most products. In terms of the international market  Netherlands, Ireland, Germany, France, and Australia are the countries that buy the most products and generate the most revenue on the site. However, 38 countries purchased gifts from the site during this time. We should look into expanding the customer base in these countries. In particular, Singapore, Hong Kong, Portugal, Cyprus, Canada, and Norway paid the highest prices per item. We could look into appealing to these customers more to try and get them to buy more products."
   ]
  },
  {
   "cell_type": "markdown",
   "metadata": {},
   "source": [
    "Data can be found here: https://archive.ics.uci.edu/ml/datasets/online+retail"
   ]
  }
 ],
 "metadata": {
  "kernelspec": {
   "display_name": "Python 3.8.3 32-bit",
   "language": "python",
   "name": "python38332bit34a52a6bc7f44ac1b0498f44c0e74f26"
  },
  "language_info": {
   "codemirror_mode": {
    "name": "ipython",
    "version": 3
   },
   "file_extension": ".py",
   "mimetype": "text/x-python",
   "name": "python",
   "nbconvert_exporter": "python",
   "pygments_lexer": "ipython3",
   "version": "3.8.3"
  }
 },
 "nbformat": 4,
 "nbformat_minor": 2
}
